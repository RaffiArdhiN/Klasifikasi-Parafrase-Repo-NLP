{
  "nbformat": 4,
  "nbformat_minor": 0,
  "metadata": {
    "colab": {
      "provenance": [],
      "gpuType": "T4"
    },
    "kernelspec": {
      "name": "python3",
      "display_name": "Python 3"
    },
    "language_info": {
      "name": "python"
    },
    "accelerator": "GPU"
  },
  "cells": [
    {
      "cell_type": "code",
      "execution_count": 1,
      "metadata": {
        "id": "QFzpcpPlC3_b"
      },
      "outputs": [],
      "source": [
        "import pandas as pd\n",
        "import numpy as np\n",
        "from sklearn.model_selection import train_test_split\n",
        "from tensorflow.keras.preprocessing.text import Tokenizer\n",
        "from tensorflow.keras.preprocessing.sequence import pad_sequences\n",
        "from tensorflow.keras.models import Sequential\n",
        "from tensorflow.keras.layers import Embedding, SimpleRNN, Dense\n",
        "from tensorflow.keras.optimizers import Adam\n",
        "from tensorflow.keras.callbacks import EarlyStopping\n",
        "import matplotlib.pyplot as plt\n",
        "import seaborn as sns\n",
        "from nltk.translate.bleu_score import sentence_bleu"
      ]
    },
    {
      "cell_type": "code",
      "source": [
        "data = pd.read_csv('/content/drive/MyDrive/Colab Notebooks/ID_Quora_Paraphrasing_train.csv')\n",
        "df = pd.DataFrame(data)"
      ],
      "metadata": {
        "id": "YnnYaC_xDF5f"
      },
      "execution_count": 2,
      "outputs": []
    },
    {
      "cell_type": "code",
      "source": [
        "df.info()"
      ],
      "metadata": {
        "colab": {
          "base_uri": "https://localhost:8080/"
        },
        "id": "ZOTSRPYeEFcp",
        "outputId": "081cded7-e666-43e4-d0d4-9299f01b0e50"
      },
      "execution_count": 3,
      "outputs": [
        {
          "output_type": "stream",
          "name": "stdout",
          "text": [
            "<class 'pandas.core.frame.DataFrame'>\n",
            "RangeIndex: 134084 entries, 0 to 134083\n",
            "Data columns (total 2 columns):\n",
            " #   Column      Non-Null Count   Dtype \n",
            "---  ------      --------------   ----- \n",
            " 0   question_1  134084 non-null  object\n",
            " 1   question_2  134084 non-null  object\n",
            "dtypes: object(2)\n",
            "memory usage: 2.0+ MB\n"
          ]
        }
      ]
    },
    {
      "cell_type": "code",
      "source": [
        "df.head()"
      ],
      "metadata": {
        "colab": {
          "base_uri": "https://localhost:8080/",
          "height": 206
        },
        "id": "Ye3dJwfOEP-e",
        "outputId": "ad3446d8-52e6-4d9c-9f3d-4dcb5a53ddad"
      },
      "execution_count": 4,
      "outputs": [
        {
          "output_type": "execute_result",
          "data": {
            "text/plain": [
              "                                          question_1  \\\n",
              "0  Apa beberapa teknik yoga yang baik untuk menur...   \n",
              "1                      Bagaimana musik memicu emosi?   \n",
              "2  Apa beberapa contoh bagaimana data dan informa...   \n",
              "3  Haruskah saya menggunakan papan ouija? Apakah ...   \n",
              "4  Apa saja hal-hal yang orang awam tahu tetapi j...   \n",
              "\n",
              "                                          question_2  \n",
              "0       Apa asana yoga untuk menurunkan berat badan?  \n",
              "1  Mengapa musik bertanggung jawab untuk memicu e...  \n",
              "2  Apa perbedaan antara data dan informasi dengan...  \n",
              "3  Apakah Papan Ouija benar-benar memanggil roh? ...  \n",
              "4  Apa yang diketahui oleh jutawan bahwa orang bi...  "
            ],
            "text/html": [
              "\n",
              "  <div id=\"df-aab561c2-bdb6-4012-b02a-928b097fcf4f\" class=\"colab-df-container\">\n",
              "    <div>\n",
              "<style scoped>\n",
              "    .dataframe tbody tr th:only-of-type {\n",
              "        vertical-align: middle;\n",
              "    }\n",
              "\n",
              "    .dataframe tbody tr th {\n",
              "        vertical-align: top;\n",
              "    }\n",
              "\n",
              "    .dataframe thead th {\n",
              "        text-align: right;\n",
              "    }\n",
              "</style>\n",
              "<table border=\"1\" class=\"dataframe\">\n",
              "  <thead>\n",
              "    <tr style=\"text-align: right;\">\n",
              "      <th></th>\n",
              "      <th>question_1</th>\n",
              "      <th>question_2</th>\n",
              "    </tr>\n",
              "  </thead>\n",
              "  <tbody>\n",
              "    <tr>\n",
              "      <th>0</th>\n",
              "      <td>Apa beberapa teknik yoga yang baik untuk menur...</td>\n",
              "      <td>Apa asana yoga untuk menurunkan berat badan?</td>\n",
              "    </tr>\n",
              "    <tr>\n",
              "      <th>1</th>\n",
              "      <td>Bagaimana musik memicu emosi?</td>\n",
              "      <td>Mengapa musik bertanggung jawab untuk memicu e...</td>\n",
              "    </tr>\n",
              "    <tr>\n",
              "      <th>2</th>\n",
              "      <td>Apa beberapa contoh bagaimana data dan informa...</td>\n",
              "      <td>Apa perbedaan antara data dan informasi dengan...</td>\n",
              "    </tr>\n",
              "    <tr>\n",
              "      <th>3</th>\n",
              "      <td>Haruskah saya menggunakan papan ouija? Apakah ...</td>\n",
              "      <td>Apakah Papan Ouija benar-benar memanggil roh? ...</td>\n",
              "    </tr>\n",
              "    <tr>\n",
              "      <th>4</th>\n",
              "      <td>Apa saja hal-hal yang orang awam tahu tetapi j...</td>\n",
              "      <td>Apa yang diketahui oleh jutawan bahwa orang bi...</td>\n",
              "    </tr>\n",
              "  </tbody>\n",
              "</table>\n",
              "</div>\n",
              "    <div class=\"colab-df-buttons\">\n",
              "\n",
              "  <div class=\"colab-df-container\">\n",
              "    <button class=\"colab-df-convert\" onclick=\"convertToInteractive('df-aab561c2-bdb6-4012-b02a-928b097fcf4f')\"\n",
              "            title=\"Convert this dataframe to an interactive table.\"\n",
              "            style=\"display:none;\">\n",
              "\n",
              "  <svg xmlns=\"http://www.w3.org/2000/svg\" height=\"24px\" viewBox=\"0 -960 960 960\">\n",
              "    <path d=\"M120-120v-720h720v720H120Zm60-500h600v-160H180v160Zm220 220h160v-160H400v160Zm0 220h160v-160H400v160ZM180-400h160v-160H180v160Zm440 0h160v-160H620v160ZM180-180h160v-160H180v160Zm440 0h160v-160H620v160Z\"/>\n",
              "  </svg>\n",
              "    </button>\n",
              "\n",
              "  <style>\n",
              "    .colab-df-container {\n",
              "      display:flex;\n",
              "      gap: 12px;\n",
              "    }\n",
              "\n",
              "    .colab-df-convert {\n",
              "      background-color: #E8F0FE;\n",
              "      border: none;\n",
              "      border-radius: 50%;\n",
              "      cursor: pointer;\n",
              "      display: none;\n",
              "      fill: #1967D2;\n",
              "      height: 32px;\n",
              "      padding: 0 0 0 0;\n",
              "      width: 32px;\n",
              "    }\n",
              "\n",
              "    .colab-df-convert:hover {\n",
              "      background-color: #E2EBFA;\n",
              "      box-shadow: 0px 1px 2px rgba(60, 64, 67, 0.3), 0px 1px 3px 1px rgba(60, 64, 67, 0.15);\n",
              "      fill: #174EA6;\n",
              "    }\n",
              "\n",
              "    .colab-df-buttons div {\n",
              "      margin-bottom: 4px;\n",
              "    }\n",
              "\n",
              "    [theme=dark] .colab-df-convert {\n",
              "      background-color: #3B4455;\n",
              "      fill: #D2E3FC;\n",
              "    }\n",
              "\n",
              "    [theme=dark] .colab-df-convert:hover {\n",
              "      background-color: #434B5C;\n",
              "      box-shadow: 0px 1px 3px 1px rgba(0, 0, 0, 0.15);\n",
              "      filter: drop-shadow(0px 1px 2px rgba(0, 0, 0, 0.3));\n",
              "      fill: #FFFFFF;\n",
              "    }\n",
              "  </style>\n",
              "\n",
              "    <script>\n",
              "      const buttonEl =\n",
              "        document.querySelector('#df-aab561c2-bdb6-4012-b02a-928b097fcf4f button.colab-df-convert');\n",
              "      buttonEl.style.display =\n",
              "        google.colab.kernel.accessAllowed ? 'block' : 'none';\n",
              "\n",
              "      async function convertToInteractive(key) {\n",
              "        const element = document.querySelector('#df-aab561c2-bdb6-4012-b02a-928b097fcf4f');\n",
              "        const dataTable =\n",
              "          await google.colab.kernel.invokeFunction('convertToInteractive',\n",
              "                                                    [key], {});\n",
              "        if (!dataTable) return;\n",
              "\n",
              "        const docLinkHtml = 'Like what you see? Visit the ' +\n",
              "          '<a target=\"_blank\" href=https://colab.research.google.com/notebooks/data_table.ipynb>data table notebook</a>'\n",
              "          + ' to learn more about interactive tables.';\n",
              "        element.innerHTML = '';\n",
              "        dataTable['output_type'] = 'display_data';\n",
              "        await google.colab.output.renderOutput(dataTable, element);\n",
              "        const docLink = document.createElement('div');\n",
              "        docLink.innerHTML = docLinkHtml;\n",
              "        element.appendChild(docLink);\n",
              "      }\n",
              "    </script>\n",
              "  </div>\n",
              "\n",
              "\n",
              "<div id=\"df-a364b45a-4ae7-48d5-bf75-9412de3c2d74\">\n",
              "  <button class=\"colab-df-quickchart\" onclick=\"quickchart('df-a364b45a-4ae7-48d5-bf75-9412de3c2d74')\"\n",
              "            title=\"Suggest charts\"\n",
              "            style=\"display:none;\">\n",
              "\n",
              "<svg xmlns=\"http://www.w3.org/2000/svg\" height=\"24px\"viewBox=\"0 0 24 24\"\n",
              "     width=\"24px\">\n",
              "    <g>\n",
              "        <path d=\"M19 3H5c-1.1 0-2 .9-2 2v14c0 1.1.9 2 2 2h14c1.1 0 2-.9 2-2V5c0-1.1-.9-2-2-2zM9 17H7v-7h2v7zm4 0h-2V7h2v10zm4 0h-2v-4h2v4z\"/>\n",
              "    </g>\n",
              "</svg>\n",
              "  </button>\n",
              "\n",
              "<style>\n",
              "  .colab-df-quickchart {\n",
              "      --bg-color: #E8F0FE;\n",
              "      --fill-color: #1967D2;\n",
              "      --hover-bg-color: #E2EBFA;\n",
              "      --hover-fill-color: #174EA6;\n",
              "      --disabled-fill-color: #AAA;\n",
              "      --disabled-bg-color: #DDD;\n",
              "  }\n",
              "\n",
              "  [theme=dark] .colab-df-quickchart {\n",
              "      --bg-color: #3B4455;\n",
              "      --fill-color: #D2E3FC;\n",
              "      --hover-bg-color: #434B5C;\n",
              "      --hover-fill-color: #FFFFFF;\n",
              "      --disabled-bg-color: #3B4455;\n",
              "      --disabled-fill-color: #666;\n",
              "  }\n",
              "\n",
              "  .colab-df-quickchart {\n",
              "    background-color: var(--bg-color);\n",
              "    border: none;\n",
              "    border-radius: 50%;\n",
              "    cursor: pointer;\n",
              "    display: none;\n",
              "    fill: var(--fill-color);\n",
              "    height: 32px;\n",
              "    padding: 0;\n",
              "    width: 32px;\n",
              "  }\n",
              "\n",
              "  .colab-df-quickchart:hover {\n",
              "    background-color: var(--hover-bg-color);\n",
              "    box-shadow: 0 1px 2px rgba(60, 64, 67, 0.3), 0 1px 3px 1px rgba(60, 64, 67, 0.15);\n",
              "    fill: var(--button-hover-fill-color);\n",
              "  }\n",
              "\n",
              "  .colab-df-quickchart-complete:disabled,\n",
              "  .colab-df-quickchart-complete:disabled:hover {\n",
              "    background-color: var(--disabled-bg-color);\n",
              "    fill: var(--disabled-fill-color);\n",
              "    box-shadow: none;\n",
              "  }\n",
              "\n",
              "  .colab-df-spinner {\n",
              "    border: 2px solid var(--fill-color);\n",
              "    border-color: transparent;\n",
              "    border-bottom-color: var(--fill-color);\n",
              "    animation:\n",
              "      spin 1s steps(1) infinite;\n",
              "  }\n",
              "\n",
              "  @keyframes spin {\n",
              "    0% {\n",
              "      border-color: transparent;\n",
              "      border-bottom-color: var(--fill-color);\n",
              "      border-left-color: var(--fill-color);\n",
              "    }\n",
              "    20% {\n",
              "      border-color: transparent;\n",
              "      border-left-color: var(--fill-color);\n",
              "      border-top-color: var(--fill-color);\n",
              "    }\n",
              "    30% {\n",
              "      border-color: transparent;\n",
              "      border-left-color: var(--fill-color);\n",
              "      border-top-color: var(--fill-color);\n",
              "      border-right-color: var(--fill-color);\n",
              "    }\n",
              "    40% {\n",
              "      border-color: transparent;\n",
              "      border-right-color: var(--fill-color);\n",
              "      border-top-color: var(--fill-color);\n",
              "    }\n",
              "    60% {\n",
              "      border-color: transparent;\n",
              "      border-right-color: var(--fill-color);\n",
              "    }\n",
              "    80% {\n",
              "      border-color: transparent;\n",
              "      border-right-color: var(--fill-color);\n",
              "      border-bottom-color: var(--fill-color);\n",
              "    }\n",
              "    90% {\n",
              "      border-color: transparent;\n",
              "      border-bottom-color: var(--fill-color);\n",
              "    }\n",
              "  }\n",
              "</style>\n",
              "\n",
              "  <script>\n",
              "    async function quickchart(key) {\n",
              "      const quickchartButtonEl =\n",
              "        document.querySelector('#' + key + ' button');\n",
              "      quickchartButtonEl.disabled = true;  // To prevent multiple clicks.\n",
              "      quickchartButtonEl.classList.add('colab-df-spinner');\n",
              "      try {\n",
              "        const charts = await google.colab.kernel.invokeFunction(\n",
              "            'suggestCharts', [key], {});\n",
              "      } catch (error) {\n",
              "        console.error('Error during call to suggestCharts:', error);\n",
              "      }\n",
              "      quickchartButtonEl.classList.remove('colab-df-spinner');\n",
              "      quickchartButtonEl.classList.add('colab-df-quickchart-complete');\n",
              "    }\n",
              "    (() => {\n",
              "      let quickchartButtonEl =\n",
              "        document.querySelector('#df-a364b45a-4ae7-48d5-bf75-9412de3c2d74 button');\n",
              "      quickchartButtonEl.style.display =\n",
              "        google.colab.kernel.accessAllowed ? 'block' : 'none';\n",
              "    })();\n",
              "  </script>\n",
              "</div>\n",
              "\n",
              "    </div>\n",
              "  </div>\n"
            ],
            "application/vnd.google.colaboratory.intrinsic+json": {
              "type": "dataframe",
              "variable_name": "df"
            }
          },
          "metadata": {},
          "execution_count": 4
        }
      ]
    },
    {
      "cell_type": "code",
      "source": [
        "df['sentence1_length'] = df['question_1'].apply(lambda x: len(x.split()))\n",
        "df['sentence2_length'] = df['question_2'].apply(lambda x: len(x.split()))"
      ],
      "metadata": {
        "id": "iLwifjL1C8HP"
      },
      "execution_count": 5,
      "outputs": []
    },
    {
      "cell_type": "code",
      "source": [
        "plt.figure(figsize=(12, 6))\n",
        "sns.histplot(df['sentence1_length'], bins=50, kde=True, color='blue', label='sentence1 length')\n",
        "sns.histplot(df['sentence2_length'], bins=50, kde=True, color='green', label='sentence2 length')\n",
        "plt.legend()\n",
        "plt.title('Distribusi Panjang Kalimat (sentence1 dan sentence2)')\n",
        "plt.xlabel('Panjang Kalimat')\n",
        "plt.ylabel('Frekuensi')\n",
        "plt.show()"
      ],
      "metadata": {
        "colab": {
          "base_uri": "https://localhost:8080/",
          "height": 584
        },
        "id": "k_OXylp8GiGY",
        "outputId": "4d555c93-5476-413f-b94e-a377761fb48a"
      },
      "execution_count": 6,
      "outputs": [
        {
          "output_type": "display_data",
          "data": {
            "text/plain": [
              "<Figure size 1200x600 with 1 Axes>"
            ],
            "image/png": "[encoded data removed]"
          },
          "metadata": {}
        }
      ]
    },
    {
      "cell_type": "code",
      "source": [
        "X = df['question_1']\n",
        "y = df['question_2']"
      ],
      "metadata": {
        "id": "Nm6HBVv3Ik6m"
      },
      "execution_count": 8,
      "outputs": []
    },
    {
      "cell_type": "code",
      "source": [
        "tokenizer = Tokenizer()\n",
        "tokenizer.fit_on_texts(pd.concat([X, y]).values)  # Menggabungkan kolom untuk kosakata"
      ],
      "metadata": {
        "id": "ev-P1EznIlfZ"
      },
      "execution_count": 9,
      "outputs": []
    },
    {
      "cell_type": "code",
      "source": [
        "# max_length = 30\n",
        "vocab_size = len(tokenizer.word_index) + 1  # Menambah +1 untuk kata yang tidak dikenal\n",
        "embedding_dim = 100\n",
        "max_length = max(max(len(seq) for seq in X_seq), max(len(seq) for seq in y_seq))"
      ],
      "metadata": {
        "id": "UfsE1z7UKCK2"
      },
      "execution_count": 10,
      "outputs": []
    },
    {
      "cell_type": "code",
      "source": [
        "X_seq = tokenizer.texts_to_sequences(X)\n",
        "y_seq = tokenizer.texts_to_sequences(y)"
      ],
      "metadata": {
        "id": "__r5W7XOIsh2"
      },
      "execution_count": 11,
      "outputs": []
    },
    {
      "cell_type": "code",
      "source": [
        "X_padded = pad_sequences(X_seq, maxlen=max_length, padding='post', truncating='post')\n",
        "y_padded = pad_sequences(y_seq, maxlen=max_length, padding='post', truncating='post')"
      ],
      "metadata": {
        "id": "owSOCADLIuOl"
      },
      "execution_count": 12,
      "outputs": []
    },
    {
      "cell_type": "code",
      "source": [
        "X_train, X_test, y_train, y_test = train_test_split(X_padded, y_padded, test_size=0.2, random_state=42)"
      ],
      "metadata": {
        "id": "D8ohLTMlIwHM"
      },
      "execution_count": 13,
      "outputs": []
    },
    {
      "cell_type": "code",
      "source": [
        "model = Sequential([\n",
        "    Embedding(input_dim=vocab_size, output_dim=embedding_dim, input_length=max_length),\n",
        "    SimpleRNN(64, return_sequences=True),\n",
        "    Dense(vocab_size, activation='softmax')\n",
        "])\n",
        "\n",
        "# Compile Model\n",
        "model.compile(optimizer=Adam(learning_rate=0.001), loss='sparse_categorical_crossentropy', metrics=['accuracy'])\n",
        "\n",
        "# Early Stopping untuk mencegah overfitting\n",
        "early_stopping = EarlyStopping(monitor='val_loss', patience=3, restore_best_weights=True)\n",
        "\n",
        "# Train the Model\n",
        "history = model.fit(X_train, y_train, epochs=50, batch_size=32, validation_split=0.2, callbacks=[early_stopping])\n",
        "model.summary()"
      ],
      "metadata": {
        "colab": {
          "base_uri": "https://localhost:8080/",
          "height": 861
        },
        "id": "TBgKgxJkJbv3",
        "outputId": "f2a5caa5-a482-4f51-fee7-0f028d7ad9a6"
      },
      "execution_count": 36,
      "outputs": [
        {
          "output_type": "stream",
          "name": "stdout",
          "text": [
            "Epoch 1/50\n",
            "\u001b[1m2682/2682\u001b[0m \u001b[32m━━━━━━━━━━━━━━━━━━━━\u001b[0m\u001b[37m\u001b[0m \u001b[1m53s\u001b[0m 18ms/step - accuracy: 0.7183 - loss: 2.7355 - val_accuracy: 0.7500 - val_loss: 1.8054\n",
            "Epoch 2/50\n",
            "\u001b[1m2682/2682\u001b[0m \u001b[32m━━━━━━━━━━━━━━━━━━━━\u001b[0m\u001b[37m\u001b[0m \u001b[1m72s\u001b[0m 15ms/step - accuracy: 0.7546 - loss: 1.7329 - val_accuracy: 0.7589 - val_loss: 1.6700\n",
            "Epoch 3/50\n",
            "\u001b[1m2682/2682\u001b[0m \u001b[32m━━━━━━━━━━━━━━━━━━━━\u001b[0m\u001b[37m\u001b[0m \u001b[1m81s\u001b[0m 15ms/step - accuracy: 0.7618 - loss: 1.5973 - val_accuracy: 0.7623 - val_loss: 1.6039\n",
            "Epoch 4/50\n",
            "\u001b[1m2682/2682\u001b[0m \u001b[32m━━━━━━━━━━━━━━━━━━━━\u001b[0m\u001b[37m\u001b[0m \u001b[1m40s\u001b[0m 15ms/step - accuracy: 0.7661 - loss: 1.5116 - val_accuracy: 0.7646 - val_loss: 1.5642\n",
            "Epoch 5/50\n",
            "\u001b[1m2682/2682\u001b[0m \u001b[32m━━━━━━━━━━━━━━━━━━━━\u001b[0m\u001b[37m\u001b[0m \u001b[1m39s\u001b[0m 15ms/step - accuracy: 0.7686 - loss: 1.4480 - val_accuracy: 0.7661 - val_loss: 1.5356\n",
            "Epoch 6/50\n",
            "\u001b[1m2682/2682\u001b[0m \u001b[32m━━━━━━━━━━━━━━━━━━━━\u001b[0m\u001b[37m\u001b[0m \u001b[1m39s\u001b[0m 15ms/step - accuracy: 0.7709 - loss: 1.4029 - val_accuracy: 0.7672 - val_loss: 1.5159\n",
            "Epoch 7/50\n",
            "\u001b[1m2682/2682\u001b[0m \u001b[32m━━━━━━━━━━━━━━━━━━━━\u001b[0m\u001b[37m\u001b[0m \u001b[1m41s\u001b[0m 15ms/step - accuracy: 0.7735 - loss: 1.3594 - val_accuracy: 0.7679 - val_loss: 1.5011\n",
            "Epoch 8/50\n",
            "\u001b[1m2682/2682\u001b[0m \u001b[32m━━━━━━━━━━━━━━━━━━━━\u001b[0m\u001b[37m\u001b[0m \u001b[1m41s\u001b[0m 15ms/step - accuracy: 0.7754 - loss: 1.3236 - val_accuracy: 0.7687 - val_loss: 1.4939\n",
            "Epoch 9/50\n",
            "\u001b[1m2682/2682\u001b[0m \u001b[32m━━━━━━━━━━━━━━━━━━━━\u001b[0m\u001b[37m\u001b[0m \u001b[1m39s\u001b[0m 15ms/step - accuracy: 0.7768 - loss: 1.2962 - val_accuracy: 0.7692 - val_loss: 1.4899\n",
            "Epoch 10/50\n",
            "\u001b[1m2682/2682\u001b[0m \u001b[32m━━━━━━━━━━━━━━━━━━━━\u001b[0m\u001b[37m\u001b[0m \u001b[1m40s\u001b[0m 15ms/step - accuracy: 0.7782 - loss: 1.2746 - val_accuracy: 0.7692 - val_loss: 1.4854\n",
            "Epoch 11/50\n",
            "\u001b[1m2682/2682\u001b[0m \u001b[32m━━━━━━━━━━━━━━━━━━━━\u001b[0m\u001b[37m\u001b[0m \u001b[1m40s\u001b[0m 15ms/step - accuracy: 0.7797 - loss: 1.2530 - val_accuracy: 0.7691 - val_loss: 1.4843\n",
            "Epoch 12/50\n",
            "\u001b[1m2682/2682\u001b[0m \u001b[32m━━━━━━━━━━━━━━━━━━━━\u001b[0m\u001b[37m\u001b[0m \u001b[1m41s\u001b[0m 15ms/step - accuracy: 0.7806 - loss: 1.2341 - val_accuracy: 0.7695 - val_loss: 1.4834\n",
            "Epoch 13/50\n",
            "\u001b[1m2682/2682\u001b[0m \u001b[32m━━━━━━━━━━━━━━━━━━━━\u001b[0m\u001b[37m\u001b[0m \u001b[1m39s\u001b[0m 15ms/step - accuracy: 0.7824 - loss: 1.2155 - val_accuracy: 0.7693 - val_loss: 1.4826\n",
            "Epoch 14/50\n",
            "\u001b[1m2682/2682\u001b[0m \u001b[32m━━━━━━━━━━━━━━━━━━━━\u001b[0m\u001b[37m\u001b[0m \u001b[1m41s\u001b[0m 15ms/step - accuracy: 0.7828 - loss: 1.2037 - val_accuracy: 0.7689 - val_loss: 1.4817\n",
            "Epoch 15/50\n",
            "\u001b[1m2682/2682\u001b[0m \u001b[32m━━━━━━━━━━━━━━━━━━━━\u001b[0m\u001b[37m\u001b[0m \u001b[1m41s\u001b[0m 15ms/step - accuracy: 0.7835 - loss: 1.1920 - val_accuracy: 0.7690 - val_loss: 1.4821\n",
            "Epoch 16/50\n",
            "\u001b[1m2682/2682\u001b[0m \u001b[32m━━━━━━━━━━━━━━━━━━━━\u001b[0m\u001b[37m\u001b[0m \u001b[1m41s\u001b[0m 15ms/step - accuracy: 0.7847 - loss: 1.1797 - val_accuracy: 0.7689 - val_loss: 1.4895\n",
            "Epoch 17/50\n",
            "\u001b[1m2682/2682\u001b[0m \u001b[32m━━━━━━━━━━━━━━━━━━━━\u001b[0m\u001b[37m\u001b[0m \u001b[1m39s\u001b[0m 15ms/step - accuracy: 0.7864 - loss: 1.1651 - val_accuracy: 0.7671 - val_loss: 1.4945\n"
          ]
        },
        {
          "output_type": "display_data",
          "data": {
            "text/plain": [
              "\u001b[1mModel: \"sequential_2\"\u001b[0m\n"
            ],
            "text/html": [
              "<pre style=\"white-space:pre;overflow-x:auto;line-height:normal;font-family:Menlo,'DejaVu Sans Mono',consolas,'Courier New',monospace\"><span style=\"font-weight: bold\">Model: \"sequential_2\"</span>\n",
              "</pre>\n"
            ]
          },
          "metadata": {}
        },
        {
          "output_type": "display_data",
          "data": {
            "text/plain": [
              "┏━━━━━━━━━━━━━━━━━━━━━━━━━━━━━━━━━━━━━━┳━━━━━━━━━━━━━━━━━━━━━━━━━━━━━┳━━━━━━━━━━━━━━━━━┓\n",
              "┃\u001b[1m \u001b[0m\u001b[1mLayer (type)                        \u001b[0m\u001b[1m \u001b[0m┃\u001b[1m \u001b[0m\u001b[1mOutput Shape               \u001b[0m\u001b[1m \u001b[0m┃\u001b[1m \u001b[0m\u001b[1m        Param #\u001b[0m\u001b[1m \u001b[0m┃\n",
              "┡━━━━━━━━━━━━━━━━━━━━━━━━━━━━━━━━━━━━━━╇━━━━━━━━━━━━━━━━━━━━━━━━━━━━━╇━━━━━━━━━━━━━━━━━┩\n",
              "│ embedding_2 (\u001b[38;5;33mEmbedding\u001b[0m)              │ (\u001b[38;5;45mNone\u001b[0m, \u001b[38;5;34m30\u001b[0m, \u001b[38;5;34m100\u001b[0m)             │       \u001b[38;5;34m2,621,500\u001b[0m │\n",
              "├──────────────────────────────────────┼─────────────────────────────┼─────────────────┤\n",
              "│ simple_rnn_2 (\u001b[38;5;33mSimpleRNN\u001b[0m)             │ (\u001b[38;5;45mNone\u001b[0m, \u001b[38;5;34m30\u001b[0m, \u001b[38;5;34m64\u001b[0m)              │          \u001b[38;5;34m10,560\u001b[0m │\n",
              "├──────────────────────────────────────┼─────────────────────────────┼─────────────────┤\n",
              "│ dense_2 (\u001b[38;5;33mDense\u001b[0m)                      │ (\u001b[38;5;45mNone\u001b[0m, \u001b[38;5;34m30\u001b[0m, \u001b[38;5;34m26215\u001b[0m)           │       \u001b[38;5;34m1,703,975\u001b[0m │\n",
              "└──────────────────────────────────────┴─────────────────────────────┴─────────────────┘\n"
            ],
            "text/html": [
              "<pre style=\"white-space:pre;overflow-x:auto;line-height:normal;font-family:Menlo,'DejaVu Sans Mono',consolas,'Courier New',monospace\">┏━━━━━━━━━━━━━━━━━━━━━━━━━━━━━━━━━━━━━━┳━━━━━━━━━━━━━━━━━━━━━━━━━━━━━┳━━━━━━━━━━━━━━━━━┓\n",
              "┃<span style=\"font-weight: bold\"> Layer (type)                         </span>┃<span style=\"font-weight: bold\"> Output Shape                </span>┃<span style=\"font-weight: bold\">         Param # </span>┃\n",
              "┡━━━━━━━━━━━━━━━━━━━━━━━━━━━━━━━━━━━━━━╇━━━━━━━━━━━━━━━━━━━━━━━━━━━━━╇━━━━━━━━━━━━━━━━━┩\n",
              "│ embedding_2 (<span style=\"color: #0087ff; text-decoration-color: #0087ff\">Embedding</span>)              │ (<span style=\"color: #00d7ff; text-decoration-color: #00d7ff\">None</span>, <span style=\"color: #00af00; text-decoration-color: #00af00\">30</span>, <span style=\"color: #00af00; text-decoration-color: #00af00\">100</span>)             │       <span style=\"color: #00af00; text-decoration-color: #00af00\">2,621,500</span> │\n",
              "├──────────────────────────────────────┼─────────────────────────────┼─────────────────┤\n",
              "│ simple_rnn_2 (<span style=\"color: #0087ff; text-decoration-color: #0087ff\">SimpleRNN</span>)             │ (<span style=\"color: #00d7ff; text-decoration-color: #00d7ff\">None</span>, <span style=\"color: #00af00; text-decoration-color: #00af00\">30</span>, <span style=\"color: #00af00; text-decoration-color: #00af00\">64</span>)              │          <span style=\"color: #00af00; text-decoration-color: #00af00\">10,560</span> │\n",
              "├──────────────────────────────────────┼─────────────────────────────┼─────────────────┤\n",
              "│ dense_2 (<span style=\"color: #0087ff; text-decoration-color: #0087ff\">Dense</span>)                      │ (<span style=\"color: #00d7ff; text-decoration-color: #00d7ff\">None</span>, <span style=\"color: #00af00; text-decoration-color: #00af00\">30</span>, <span style=\"color: #00af00; text-decoration-color: #00af00\">26215</span>)           │       <span style=\"color: #00af00; text-decoration-color: #00af00\">1,703,975</span> │\n",
              "└──────────────────────────────────────┴─────────────────────────────┴─────────────────┘\n",
              "</pre>\n"
            ]
          },
          "metadata": {}
        },
        {
          "output_type": "display_data",
          "data": {
            "text/plain": [
              "\u001b[1m Total params: \u001b[0m\u001b[38;5;34m13,008,107\u001b[0m (49.62 MB)\n"
            ],
            "text/html": [
              "<pre style=\"white-space:pre;overflow-x:auto;line-height:normal;font-family:Menlo,'DejaVu Sans Mono',consolas,'Courier New',monospace\"><span style=\"font-weight: bold\"> Total params: </span><span style=\"color: #00af00; text-decoration-color: #00af00\">13,008,107</span> (49.62 MB)\n",
              "</pre>\n"
            ]
          },
          "metadata": {}
        },
        {
          "output_type": "display_data",
          "data": {
            "text/plain": [
              "\u001b[1m Trainable params: \u001b[0m\u001b[38;5;34m4,336,035\u001b[0m (16.54 MB)\n"
            ],
            "text/html": [
              "<pre style=\"white-space:pre;overflow-x:auto;line-height:normal;font-family:Menlo,'DejaVu Sans Mono',consolas,'Courier New',monospace\"><span style=\"font-weight: bold\"> Trainable params: </span><span style=\"color: #00af00; text-decoration-color: #00af00\">4,336,035</span> (16.54 MB)\n",
              "</pre>\n"
            ]
          },
          "metadata": {}
        },
        {
          "output_type": "display_data",
          "data": {
            "text/plain": [
              "\u001b[1m Non-trainable params: \u001b[0m\u001b[38;5;34m0\u001b[0m (0.00 B)\n"
            ],
            "text/html": [
              "<pre style=\"white-space:pre;overflow-x:auto;line-height:normal;font-family:Menlo,'DejaVu Sans Mono',consolas,'Courier New',monospace\"><span style=\"font-weight: bold\"> Non-trainable params: </span><span style=\"color: #00af00; text-decoration-color: #00af00\">0</span> (0.00 B)\n",
              "</pre>\n"
            ]
          },
          "metadata": {}
        },
        {
          "output_type": "display_data",
          "data": {
            "text/plain": [
              "\u001b[1m Optimizer params: \u001b[0m\u001b[38;5;34m8,672,072\u001b[0m (33.08 MB)\n"
            ],
            "text/html": [
              "<pre style=\"white-space:pre;overflow-x:auto;line-height:normal;font-family:Menlo,'DejaVu Sans Mono',consolas,'Courier New',monospace\"><span style=\"font-weight: bold\"> Optimizer params: </span><span style=\"color: #00af00; text-decoration-color: #00af00\">8,672,072</span> (33.08 MB)\n",
              "</pre>\n"
            ]
          },
          "metadata": {}
        }
      ]
    },
    {
      "cell_type": "code",
      "source": [
        "# Plot Training & Validation Accuracy and Loss\n",
        "plt.figure(figsize=(12, 6))\n",
        "\n",
        "# Plot Accuracy\n",
        "plt.subplot(1, 2, 1)\n",
        "plt.plot(history.history['accuracy'], label='Training Accuracy')\n",
        "plt.plot(history.history['val_accuracy'], label='Validation Accuracy')\n",
        "plt.xlabel('Epochs')\n",
        "plt.ylabel('Accuracy')\n",
        "plt.legend()\n",
        "plt.title('Training and Validation Accuracy')\n",
        "\n",
        "# Plot Loss\n",
        "plt.subplot(1, 2, 2)\n",
        "plt.plot(history.history['loss'], label='Training Loss')\n",
        "plt.plot(history.history['val_loss'], label='Validation Loss')\n",
        "plt.xlabel('Epochs')\n",
        "plt.ylabel('Loss')\n",
        "plt.legend()\n",
        "plt.title('Training and Validation Loss')\n",
        "plt.show()"
      ],
      "metadata": {
        "colab": {
          "base_uri": "https://localhost:8080/",
          "height": 558
        },
        "id": "Hhg-f3KyJfrj",
        "outputId": "c1f6e448-76d6-4deb-a1ef-d352c1124623"
      },
      "execution_count": 37,
      "outputs": [
        {
          "output_type": "display_data",
          "data": {
            "text/plain": [
              "<Figure size 1200x600 with 2 Axes>"
            ],
            "image/png": "[encoded data removed]"
          },
          "metadata": {}
        }
      ]
    },
    {
      "cell_type": "code",
      "source": [
        "# Preprocessing input\n",
        "input_padded = \"bagaimana cara mempelajari jaringan komputer\"  # Ganti dengan kalimat yang lebih sederhana\n",
        "\n",
        "input_seq = tokenizer.texts_to_sequences([input_padded])\n",
        "input_padded = pad_sequences(input_seq, maxlen=max_length, padding='post')\n",
        "\n",
        "# Menghasilkan prediksi\n",
        "predicted = model.predict(input_padded)\n",
        "\n",
        "# Mengecek output prediksi\n",
        "# print(\"Predicted probabilities:\", predicted)\n",
        "\n",
        "# Ambil kata dengan probabilitas tertinggi untuk setiap langkah\n",
        "predicted_indices = np.argmax(predicted, axis=-1)\n",
        "\n",
        "# Konversi indeks ke kata\n",
        "predicted_words = [tokenizer.index_word.get(index, '') for index in predicted_indices[0]]\n",
        "\n",
        "# Gabungkan kata-kata menjadi satu kalimat\n",
        "parafrase = ' '.join(predicted_words).replace('  ', ' ').strip()\n",
        "\n",
        "print(\"Parafrase:\", parafrase)"
      ],
      "metadata": {
        "colab": {
          "base_uri": "https://localhost:8080/"
        },
        "id": "DN_6hHuUNFFV",
        "outputId": "28946997-ef5b-41a1-e706-d56274215685"
      },
      "execution_count": 43,
      "outputs": [
        {
          "output_type": "stream",
          "name": "stdout",
          "text": [
            "\u001b[1m1/1\u001b[0m \u001b[32m━━━━━━━━━━━━━━━━━━━━\u001b[0m\u001b[37m\u001b[0m \u001b[1m0s\u001b[0m 17ms/step\n",
            "Parafrase: bagaimana cara belajar komputer komputer\n"
          ]
        }
      ]
    },
    {
      "cell_type": "code",
      "source": [
        "import nltk\n",
        "# nltk.download('punkt')\n",
        "from nltk.translate.bleu_score import sentence_bleu  # Import BLEU score\n",
        "\n",
        "# Kalimat referensi yang benar (misalnya, kalimat asli atau kalimat parafrase yang diinginkan)\n",
        "reference = \"bagaimana cara belajar jaringan komputer\"  # Ganti dengan kalimat referensi yang sesuai\n",
        "\n",
        "# Menghitung BLEU score\n",
        "reference_tokens = reference.split()  # Tokenisasi kalimat referensi\n",
        "predicted_tokens = parafrase.split()  # Tokenisasi kalimat hasil prediksi\n",
        "\n",
        "# Menghitung BLEU score\n",
        "bleu_score = sentence_bleu([reference_tokens], predicted_tokens)\n",
        "\n",
        "print(\"BLEU Score:\", bleu_score)"
      ],
      "metadata": {
        "colab": {
          "base_uri": "https://localhost:8080/"
        },
        "id": "rrXQqEHBNqDQ",
        "outputId": "4670f317-3bcc-4e13-8a49-2a11f3ed7cec"
      },
      "execution_count": 44,
      "outputs": [
        {
          "output_type": "stream",
          "name": "stdout",
          "text": [
            "BLEU Score: 7.380245217279165e-78\n"
          ]
        }
      ]
    },
    {
      "cell_type": "code",
      "source": [
        "# Menyimpan model\n",
        "model.save('paraphrase_model.h5')\n"
      ],
      "metadata": {
        "colab": {
          "base_uri": "https://localhost:8080/"
        },
        "id": "1bYjjIzxXmT0",
        "outputId": "3f26a144-b2c0-4e97-8e51-c5b4f30a8a2b"
      },
      "execution_count": 45,
      "outputs": [
        {
          "output_type": "stream",
          "name": "stderr",
          "text": [
            "WARNING:absl:You are saving your model as an HDF5 file via `model.save()` or `keras.saving.save_model(model)`. This file format is considered legacy. We recommend using instead the native Keras format, e.g. `model.save('my_model.keras')` or `keras.saving.save_model(model, 'my_model.keras')`. \n"
          ]
        }
      ]
    },
    {
      "cell_type": "code",
      "source": [
        "datatest = {\n",
        "    'question': [\n",
        "        \"Apa manfaat yoga untuk kesehatan?\",\n",
        "        \"Bagaimana cara membuat kue cokelat?\",\n",
        "        \"Mengapa penting untuk tidur cukup?\",\n",
        "        \"Apa perbedaan antara data dan informasi?\",\n",
        "        \"Apa yang harus dilakukan agar lebih produktif?\",\n",
        "        \"Bagaimana cara menjaga kesehatan jantung?\",\n",
        "        \"Apa saja manfaat belajar bahasa asing?\",\n",
        "        \"Mengapa olahraga penting bagi tubuh?\",\n",
        "        \"Apa itu ekonomi digital?\",\n",
        "        \"Apa yang dimaksud dengan kecerdasan buatan?\"\n",
        "    ],\n",
        "    'reference': [\n",
        "        \"Apa saja manfaat yoga bagi kesehatan tubuh?\",\n",
        "        \"Apa langkah-langkah untuk membuat kue cokelat?\",\n",
        "        \"Mengapa tidur yang cukup sangat penting untuk tubuh?\",\n",
        "        \"Apa yang membedakan antara data dan informasi?\",\n",
        "        \"Apa saja tips agar lebih produktif dalam bekerja?\",\n",
        "        \"Apa yang harus dilakukan untuk menjaga kesehatan jantung?\",\n",
        "        \"Apa keuntungan yang didapatkan dari belajar bahasa asing?\",\n",
        "        \"Apa alasan olahraga sangat penting untuk kesehatan tubuh?\",\n",
        "        \"Bagaimana ekonomi digital memengaruhi kehidupan kita?\",\n",
        "        \"Apa itu AI dan bagaimana cara kerjanya?\"\n",
        "    ]\n",
        "}"
      ],
      "metadata": {
        "id": "aPzTdZRjXyID"
      },
      "execution_count": 46,
      "outputs": []
    },
    {
      "cell_type": "code",
      "source": [
        "# Membuat DataFrame\n",
        "df2 = pd.DataFrame(datatest)\n",
        "\n",
        "# Preprocessing data\n",
        "tokenizer = Tokenizer()\n",
        "tokenizer.fit_on_texts(df2['question'].tolist() + df2['reference'].tolist())  # Gabungkan kedua kolom untuk pelatihan tokenizer\n",
        "max_length = max(df2['question'].apply(lambda x: len(x.split())).max(),\n",
        "                 df2['reference'].apply(lambda x: len(x.split())).max())\n",
        "\n",
        "# Tokenisasi input dan referensi\n",
        "question_seq = tokenizer.texts_to_sequences(df2['question'].tolist())\n",
        "reference_seq = tokenizer.texts_to_sequences(df2['reference'].tolist())\n",
        "\n",
        "question_padded = pad_sequences(question_seq, maxlen=max_length, padding='post')\n",
        "reference_padded = pad_sequences(reference_seq, maxlen=max_length, padding='post')"
      ],
      "metadata": {
        "id": "ozWYInd5X5Af"
      },
      "execution_count": 48,
      "outputs": []
    },
    {
      "cell_type": "code",
      "source": [
        "from tensorflow.keras.models import load_model\n",
        "model = load_model('paraphrase_model.h5')  # Ganti dengan path model Anda"
      ],
      "metadata": {
        "colab": {
          "base_uri": "https://localhost:8080/"
        },
        "id": "NaG1cZdkYQTa",
        "outputId": "0353673e-df77-4c49-df13-827df3f946dc"
      },
      "execution_count": 50,
      "outputs": [
        {
          "output_type": "stream",
          "name": "stderr",
          "text": [
            "WARNING:absl:Compiled the loaded model, but the compiled metrics have yet to be built. `model.compile_metrics` will be empty until you train or evaluate the model.\n"
          ]
        }
      ]
    },
    {
      "cell_type": "code",
      "source": [
        "# Fungsi untuk memprediksi parafrase\n",
        "def predict_paraphrase(input_text):\n",
        "    input_seq = tokenizer.texts_to_sequences([input_text])\n",
        "    input_padded = pad_sequences(input_seq, maxlen=max_length, padding='post')\n",
        "    prediction = model.predict(input_padded)\n",
        "\n",
        "    # Ambil prediksi dengan nilai tertinggi (berdasarkan probabilitas)\n",
        "    predicted_tokens = np.argmax(prediction, axis=-1)[0]\n",
        "\n",
        "    # Mengonversi kembali token menjadi teks\n",
        "    predicted_text = tokenizer.sequences_to_texts([predicted_tokens])[0]\n",
        "    return predicted_text\n",
        "\n",
        "# Menggunakan SmoothingFunction untuk BLEU score\n",
        "smoothing = SmoothingFunction().method1\n",
        "\n",
        "# Melakukan prediksi dan menghitung BLEU score untuk setiap kalimat dalam DataFrame\n",
        "for i in range(len(df2)):\n",
        "    input_question = df2['question'][i]\n",
        "    reference_paraphrase = df2['reference'][i]\n",
        "\n",
        "    # Prediksi parafrase\n",
        "    predicted_paraphrase = predict_paraphrase(input_question)\n",
        "\n",
        "    # Tokenisasi referensi dan hasil prediksi untuk BLEU score\n",
        "    reference_tokens = tokenizer.texts_to_sequences([reference_paraphrase])[0]\n",
        "    predicted_tokens = tokenizer.texts_to_sequences([predicted_paraphrase])[0]\n",
        "\n",
        "    # Menghitung BLEU score\n",
        "    bleu_score = sentence_bleu([reference_tokens], predicted_tokens, smoothing_function=smoothing)\n",
        "\n",
        "    # Menampilkan hasil\n",
        "    print(f\"Pertanyaan: {input_question}\")\n",
        "    print(f\"Parafrase yang diprediksi: {predicted_paraphrase}\")\n",
        "    print(f\"Referensi: {reference_paraphrase}\")\n",
        "    print(f\"BLEU score: {bleu_score:.4f}\")\n",
        "    print(\"-\" * 50)"
      ],
      "metadata": {
        "colab": {
          "base_uri": "https://localhost:8080/"
        },
        "id": "Qi_R1-f1YdJT",
        "outputId": "52e63d34-6eab-4390-fa55-adf773281a2e"
      },
      "execution_count": 64,
      "outputs": [
        {
          "output_type": "stream",
          "name": "stdout",
          "text": [
            "\u001b[1m1/1\u001b[0m \u001b[32m━━━━━━━━━━━━━━━━━━━━\u001b[0m\u001b[37m\u001b[0m \u001b[1m0s\u001b[0m 26ms/step\n",
            "Pertanyaan: Apa manfaat yoga untuk kesehatan?\n",
            "Parafrase yang diprediksi: apa untuk mengapa untuk kesehatan\n",
            "Referensi: Apa saja manfaat yoga bagi kesehatan tubuh?\n",
            "BLEU score: 0.0428\n",
            "--------------------------------------------------\n",
            "\u001b[1m1/1\u001b[0m \u001b[32m━━━━━━━━━━━━━━━━━━━━\u001b[0m\u001b[37m\u001b[0m \u001b[1m0s\u001b[0m 41ms/step\n",
            "Pertanyaan: Bagaimana cara membuat kue cokelat?\n",
            "Parafrase yang diprediksi: apa untuk cara kue kue\n",
            "Referensi: Apa langkah-langkah untuk membuat kue cokelat?\n",
            "BLEU score: 0.0474\n",
            "--------------------------------------------------\n",
            "\u001b[1m1/1\u001b[0m \u001b[32m━━━━━━━━━━━━━━━━━━━━\u001b[0m\u001b[37m\u001b[0m \u001b[1m0s\u001b[0m 19ms/step\n",
            "Pertanyaan: Mengapa penting untuk tidur cukup?\n",
            "Parafrase yang diprediksi: kesehatan yang untuk untuk cukup\n",
            "Referensi: Mengapa tidur yang cukup sangat penting untuk tubuh?\n",
            "BLEU score: 0.0388\n",
            "--------------------------------------------------\n",
            "\u001b[1m1/1\u001b[0m \u001b[32m━━━━━━━━━━━━━━━━━━━━\u001b[0m\u001b[37m\u001b[0m \u001b[1m0s\u001b[0m 16ms/step\n",
            "Pertanyaan: Apa perbedaan antara data dan informasi?\n",
            "Parafrase yang diprediksi: apa jantung cara bagaimana penting\n",
            "Referensi: Apa yang membedakan antara data dan informasi?\n",
            "BLEU score: 0.0360\n",
            "--------------------------------------------------\n",
            "\u001b[1m1/1\u001b[0m \u001b[32m━━━━━━━━━━━━━━━━━━━━\u001b[0m\u001b[37m\u001b[0m \u001b[1m0s\u001b[0m 17ms/step\n",
            "Pertanyaan: Apa yang harus dilakukan agar lebih produktif?\n",
            "Parafrase yang diprediksi: apa yang mengapa untuk agar untuk\n",
            "Referensi: Apa saja tips agar lebih produktif dalam bekerja?\n",
            "BLEU score: 0.0348\n",
            "--------------------------------------------------\n",
            "\u001b[1m1/1\u001b[0m \u001b[32m━━━━━━━━━━━━━━━━━━━━\u001b[0m\u001b[37m\u001b[0m \u001b[1m0s\u001b[0m 18ms/step\n",
            "Pertanyaan: Bagaimana cara menjaga kesehatan jantung?\n",
            "Parafrase yang diprediksi: apa untuk cara penting\n",
            "Referensi: Apa yang harus dilakukan untuk menjaga kesehatan jantung?\n",
            "BLEU score: 0.0351\n",
            "--------------------------------------------------\n",
            "\u001b[1m1/1\u001b[0m \u001b[32m━━━━━━━━━━━━━━━━━━━━\u001b[0m\u001b[37m\u001b[0m \u001b[1m0s\u001b[0m 20ms/step\n",
            "Pertanyaan: Apa saja manfaat belajar bahasa asing?\n",
            "Parafrase yang diprediksi: apa saja mengapa yang\n",
            "Referensi: Apa keuntungan yang didapatkan dari belajar bahasa asing?\n",
            "BLEU score: 0.0351\n",
            "--------------------------------------------------\n",
            "\u001b[1m1/1\u001b[0m \u001b[32m━━━━━━━━━━━━━━━━━━━━\u001b[0m\u001b[37m\u001b[0m \u001b[1m0s\u001b[0m 16ms/step\n",
            "Pertanyaan: Mengapa olahraga penting bagi tubuh?\n",
            "Parafrase yang diprediksi: kesehatan olahraga olahraga olahraga\n",
            "Referensi: Apa alasan olahraga sangat penting untuk kesehatan tubuh?\n",
            "BLEU score: 0.0351\n",
            "--------------------------------------------------\n",
            "\u001b[1m1/1\u001b[0m \u001b[32m━━━━━━━━━━━━━━━━━━━━\u001b[0m\u001b[37m\u001b[0m \u001b[1m0s\u001b[0m 16ms/step\n",
            "Pertanyaan: Apa itu ekonomi digital?\n",
            "Parafrase yang diprediksi: apa yang mengapa itu\n",
            "Referensi: Bagaimana ekonomi digital memengaruhi kehidupan kita?\n",
            "BLEU score: 0.0000\n",
            "--------------------------------------------------\n",
            "\u001b[1m1/1\u001b[0m \u001b[32m━━━━━━━━━━━━━━━━━━━━\u001b[0m\u001b[37m\u001b[0m \u001b[1m0s\u001b[0m 18ms/step\n",
            "Pertanyaan: Apa yang dimaksud dengan kecerdasan buatan?\n",
            "Parafrase yang diprediksi: apa yang dimaksud tubuh untuk menjaga\n",
            "Referensi: Apa itu AI dan bagaimana cara kerjanya?\n",
            "BLEU score: 0.0346\n",
            "--------------------------------------------------\n"
          ]
        }
      ]
    },
    {
      "cell_type": "code",
      "source": [
        "# Menampilkan BLEU score untuk setiap pasangan kalimat\n",
        "df2['BLEU Score'] = bleu_scores\n",
        "print(df2[['question', 'reference', 'BLEU Score']])\n",
        "\n",
        "# Menampilkan rata-rata BLEU score\n",
        "average_bleu = np.mean(bleu_scores)\n",
        "print(f\"Rata-rata BLEU Score: {average_bleu}\")"
      ],
      "metadata": {
        "colab": {
          "base_uri": "https://localhost:8080/"
        },
        "id": "YwLS99TaZF39",
        "outputId": "dcb6b868-8f68-4a85-891f-448cb8478cce"
      },
      "execution_count": 61,
      "outputs": [
        {
          "output_type": "stream",
          "name": "stdout",
          "text": [
            "                                         question  \\\n",
            "0               Apa manfaat yoga untuk kesehatan?   \n",
            "1             Bagaimana cara membuat kue cokelat?   \n",
            "2              Mengapa penting untuk tidur cukup?   \n",
            "3        Apa perbedaan antara data dan informasi?   \n",
            "4  Apa yang harus dilakukan agar lebih produktif?   \n",
            "5       Bagaimana cara menjaga kesehatan jantung?   \n",
            "6          Apa saja manfaat belajar bahasa asing?   \n",
            "7            Mengapa olahraga penting bagi tubuh?   \n",
            "8                        Apa itu ekonomi digital?   \n",
            "9     Apa yang dimaksud dengan kecerdasan buatan?   \n",
            "\n",
            "                                           reference  BLEU Score  \n",
            "0        Apa saja manfaat yoga bagi kesehatan tubuh?    0.042830  \n",
            "1     Apa langkah-langkah untuk membuat kue cokelat?    0.047399  \n",
            "2  Mengapa tidur yang cukup sangat penting untuk ...    0.038807  \n",
            "3     Apa yang membedakan antara data dan informasi?    0.036015  \n",
            "4  Apa saja tips agar lebih produktif dalam bekerja?    0.034787  \n",
            "5  Apa yang harus dilakukan untuk menjaga kesehat...    0.035149  \n",
            "6  Apa keuntungan yang didapatkan dari belajar ba...    0.035149  \n",
            "7  Apa alasan olahraga sangat penting untuk keseh...    0.035149  \n",
            "8  Bagaimana ekonomi digital memengaruhi kehidupa...    0.000000  \n",
            "9            Apa itu AI dan bagaimana cara kerjanya?    0.034557  \n",
            "Rata-rata BLEU Score: 0.0339841358768201\n"
          ]
        }
      ]
    }
  ]
}