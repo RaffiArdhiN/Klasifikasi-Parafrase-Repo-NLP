{
  "nbformat": 4,
  "nbformat_minor": 0,
  "metadata": {
    "colab": {
      "provenance": [],
      "gpuType": "T4"
    },
    "kernelspec": {
      "name": "python3",
      "display_name": "Python 3"
    },
    "language_info": {
      "name": "python"
    },
    "accelerator": "GPU"
  },
  "cells": [
    {
      "cell_type": "code",
      "execution_count": null,
      "metadata": {
        "id": "QFzpcpPlC3_b"
      },
      "outputs": [],
      "source": [
        "import pandas as pd\n",
        "import numpy as np\n",
        "from sklearn.model_selection import train_test_split\n",
        "from tensorflow.keras.preprocessing.text import Tokenizer\n",
        "from tensorflow.keras.preprocessing.sequence import pad_sequences\n",
        "from tensorflow.keras.models import Sequential\n",
        "from tensorflow.keras.layers import Embedding, LSTM, Dense, Dropout\n",
        "from tensorflow.keras.optimizers import Adam\n",
        "from tensorflow.keras.callbacks import EarlyStopping, ModelCheckpoint\n",
        "import matplotlib.pyplot as plt\n",
        "import seaborn as sns\n",
        "from nltk.translate.bleu_score import sentence_bleu, SmoothingFunction"
      ]
    },
    {
      "cell_type": "code",
      "source": [
        "data = pd.read_csv('/content/drive/MyDrive/Colab Notebooks/ID_Quora_Paraphrasing_train.csv')\n",
        "df = pd.DataFrame(data)"
      ],
      "metadata": {
        "id": "YnnYaC_xDF5f"
      },
      "execution_count": null,
      "outputs": []
    },
    {
      "cell_type": "code",
      "source": [
        "df.info()"
      ],
      "metadata": {
        "colab": {
          "base_uri": "https://localhost:8080/"
        },
        "id": "ZOTSRPYeEFcp",
        "outputId": "5d32a399-6bb9-4bf6-df8b-0caba82aade2"
      },
      "execution_count": null,
      "outputs": [
        {
          "output_type": "stream",
          "name": "stdout",
          "text": [
            "<class 'pandas.core.frame.DataFrame'>\n",
            "RangeIndex: 134084 entries, 0 to 134083\n",
            "Data columns (total 2 columns):\n",
            " #   Column      Non-Null Count   Dtype \n",
            "---  ------      --------------   ----- \n",
            " 0   question_1  134084 non-null  object\n",
            " 1   question_2  134084 non-null  object\n",
            "dtypes: object(2)\n",
            "memory usage: 2.0+ MB\n"
          ]
        }
      ]
    },
    {
      "cell_type": "code",
      "source": [
        "df.head()"
      ],
      "metadata": {
        "colab": {
          "base_uri": "https://localhost:8080/",
          "height": 206
        },
        "id": "Ye3dJwfOEP-e",
        "outputId": "47bd99ef-1f81-4841-8f26-814d29dba9d0"
      },
      "execution_count": null,
      "outputs": [
        {
          "output_type": "execute_result",
          "data": {
            "text/plain": [
              "                                          question_1  \\\n",
              "0  Apa beberapa teknik yoga yang baik untuk menur...   \n",
              "1                      Bagaimana musik memicu emosi?   \n",
              "2  Apa beberapa contoh bagaimana data dan informa...   \n",
              "3  Haruskah saya menggunakan papan ouija? Apakah ...   \n",
              "4  Apa saja hal-hal yang orang awam tahu tetapi j...   \n",
              "\n",
              "                                          question_2  \n",
              "0       Apa asana yoga untuk menurunkan berat badan?  \n",
              "1  Mengapa musik bertanggung jawab untuk memicu e...  \n",
              "2  Apa perbedaan antara data dan informasi dengan...  \n",
              "3  Apakah Papan Ouija benar-benar memanggil roh? ...  \n",
              "4  Apa yang diketahui oleh jutawan bahwa orang bi...  "
            ],
            "text/html": [
              "\n",
              "  <div id=\"df-ece079d4-9234-453c-bc47-d546b66b6787\" class=\"colab-df-container\">\n",
              "    <div>\n",
              "<style scoped>\n",
              "    .dataframe tbody tr th:only-of-type {\n",
              "        vertical-align: middle;\n",
              "    }\n",
              "\n",
              "    .dataframe tbody tr th {\n",
              "        vertical-align: top;\n",
              "    }\n",
              "\n",
              "    .dataframe thead th {\n",
              "        text-align: right;\n",
              "    }\n",
              "</style>\n",
              "<table border=\"1\" class=\"dataframe\">\n",
              "  <thead>\n",
              "    <tr style=\"text-align: right;\">\n",
              "      <th></th>\n",
              "      <th>question_1</th>\n",
              "      <th>question_2</th>\n",
              "    </tr>\n",
              "  </thead>\n",
              "  <tbody>\n",
              "    <tr>\n",
              "      <th>0</th>\n",
              "      <td>Apa beberapa teknik yoga yang baik untuk menur...</td>\n",
              "      <td>Apa asana yoga untuk menurunkan berat badan?</td>\n",
              "    </tr>\n",
              "    <tr>\n",
              "      <th>1</th>\n",
              "      <td>Bagaimana musik memicu emosi?</td>\n",
              "      <td>Mengapa musik bertanggung jawab untuk memicu e...</td>\n",
              "    </tr>\n",
              "    <tr>\n",
              "      <th>2</th>\n",
              "      <td>Apa beberapa contoh bagaimana data dan informa...</td>\n",
              "      <td>Apa perbedaan antara data dan informasi dengan...</td>\n",
              "    </tr>\n",
              "    <tr>\n",
              "      <th>3</th>\n",
              "      <td>Haruskah saya menggunakan papan ouija? Apakah ...</td>\n",
              "      <td>Apakah Papan Ouija benar-benar memanggil roh? ...</td>\n",
              "    </tr>\n",
              "    <tr>\n",
              "      <th>4</th>\n",
              "      <td>Apa saja hal-hal yang orang awam tahu tetapi j...</td>\n",
              "      <td>Apa yang diketahui oleh jutawan bahwa orang bi...</td>\n",
              "    </tr>\n",
              "  </tbody>\n",
              "</table>\n",
              "</div>\n",
              "    <div class=\"colab-df-buttons\">\n",
              "\n",
              "  <div class=\"colab-df-container\">\n",
              "    <button class=\"colab-df-convert\" onclick=\"convertToInteractive('df-ece079d4-9234-453c-bc47-d546b66b6787')\"\n",
              "            title=\"Convert this dataframe to an interactive table.\"\n",
              "            style=\"display:none;\">\n",
              "\n",
              "  <svg xmlns=\"http://www.w3.org/2000/svg\" height=\"24px\" viewBox=\"0 -960 960 960\">\n",
              "    <path d=\"M120-120v-720h720v720H120Zm60-500h600v-160H180v160Zm220 220h160v-160H400v160Zm0 220h160v-160H400v160ZM180-400h160v-160H180v160Zm440 0h160v-160H620v160ZM180-180h160v-160H180v160Zm440 0h160v-160H620v160Z\"/>\n",
              "  </svg>\n",
              "    </button>\n",
              "\n",
              "  <style>\n",
              "    .colab-df-container {\n",
              "      display:flex;\n",
              "      gap: 12px;\n",
              "    }\n",
              "\n",
              "    .colab-df-convert {\n",
              "      background-color: #E8F0FE;\n",
              "      border: none;\n",
              "      border-radius: 50%;\n",
              "      cursor: pointer;\n",
              "      display: none;\n",
              "      fill: #1967D2;\n",
              "      height: 32px;\n",
              "      padding: 0 0 0 0;\n",
              "      width: 32px;\n",
              "    }\n",
              "\n",
              "    .colab-df-convert:hover {\n",
              "      background-color: #E2EBFA;\n",
              "      box-shadow: 0px 1px 2px rgba(60, 64, 67, 0.3), 0px 1px 3px 1px rgba(60, 64, 67, 0.15);\n",
              "      fill: #174EA6;\n",
              "    }\n",
              "\n",
              "    .colab-df-buttons div {\n",
              "      margin-bottom: 4px;\n",
              "    }\n",
              "\n",
              "    [theme=dark] .colab-df-convert {\n",
              "      background-color: #3B4455;\n",
              "      fill: #D2E3FC;\n",
              "    }\n",
              "\n",
              "    [theme=dark] .colab-df-convert:hover {\n",
              "      background-color: #434B5C;\n",
              "      box-shadow: 0px 1px 3px 1px rgba(0, 0, 0, 0.15);\n",
              "      filter: drop-shadow(0px 1px 2px rgba(0, 0, 0, 0.3));\n",
              "      fill: #FFFFFF;\n",
              "    }\n",
              "  </style>\n",
              "\n",
              "    <script>\n",
              "      const buttonEl =\n",
              "        document.querySelector('#df-ece079d4-9234-453c-bc47-d546b66b6787 button.colab-df-convert');\n",
              "      buttonEl.style.display =\n",
              "        google.colab.kernel.accessAllowed ? 'block' : 'none';\n",
              "\n",
              "      async function convertToInteractive(key) {\n",
              "        const element = document.querySelector('#df-ece079d4-9234-453c-bc47-d546b66b6787');\n",
              "        const dataTable =\n",
              "          await google.colab.kernel.invokeFunction('convertToInteractive',\n",
              "                                                    [key], {});\n",
              "        if (!dataTable) return;\n",
              "\n",
              "        const docLinkHtml = 'Like what you see? Visit the ' +\n",
              "          '<a target=\"_blank\" href=https://colab.research.google.com/notebooks/data_table.ipynb>data table notebook</a>'\n",
              "          + ' to learn more about interactive tables.';\n",
              "        element.innerHTML = '';\n",
              "        dataTable['output_type'] = 'display_data';\n",
              "        await google.colab.output.renderOutput(dataTable, element);\n",
              "        const docLink = document.createElement('div');\n",
              "        docLink.innerHTML = docLinkHtml;\n",
              "        element.appendChild(docLink);\n",
              "      }\n",
              "    </script>\n",
              "  </div>\n",
              "\n",
              "\n",
              "<div id=\"df-eb6d2988-4347-44f5-8820-bcfca10b59d4\">\n",
              "  <button class=\"colab-df-quickchart\" onclick=\"quickchart('df-eb6d2988-4347-44f5-8820-bcfca10b59d4')\"\n",
              "            title=\"Suggest charts\"\n",
              "            style=\"display:none;\">\n",
              "\n",
              "<svg xmlns=\"http://www.w3.org/2000/svg\" height=\"24px\"viewBox=\"0 0 24 24\"\n",
              "     width=\"24px\">\n",
              "    <g>\n",
              "        <path d=\"M19 3H5c-1.1 0-2 .9-2 2v14c0 1.1.9 2 2 2h14c1.1 0 2-.9 2-2V5c0-1.1-.9-2-2-2zM9 17H7v-7h2v7zm4 0h-2V7h2v10zm4 0h-2v-4h2v4z\"/>\n",
              "    </g>\n",
              "</svg>\n",
              "  </button>\n",
              "\n",
              "<style>\n",
              "  .colab-df-quickchart {\n",
              "      --bg-color: #E8F0FE;\n",
              "      --fill-color: #1967D2;\n",
              "      --hover-bg-color: #E2EBFA;\n",
              "      --hover-fill-color: #174EA6;\n",
              "      --disabled-fill-color: #AAA;\n",
              "      --disabled-bg-color: #DDD;\n",
              "  }\n",
              "\n",
              "  [theme=dark] .colab-df-quickchart {\n",
              "      --bg-color: #3B4455;\n",
              "      --fill-color: #D2E3FC;\n",
              "      --hover-bg-color: #434B5C;\n",
              "      --hover-fill-color: #FFFFFF;\n",
              "      --disabled-bg-color: #3B4455;\n",
              "      --disabled-fill-color: #666;\n",
              "  }\n",
              "\n",
              "  .colab-df-quickchart {\n",
              "    background-color: var(--bg-color);\n",
              "    border: none;\n",
              "    border-radius: 50%;\n",
              "    cursor: pointer;\n",
              "    display: none;\n",
              "    fill: var(--fill-color);\n",
              "    height: 32px;\n",
              "    padding: 0;\n",
              "    width: 32px;\n",
              "  }\n",
              "\n",
              "  .colab-df-quickchart:hover {\n",
              "    background-color: var(--hover-bg-color);\n",
              "    box-shadow: 0 1px 2px rgba(60, 64, 67, 0.3), 0 1px 3px 1px rgba(60, 64, 67, 0.15);\n",
              "    fill: var(--button-hover-fill-color);\n",
              "  }\n",
              "\n",
              "  .colab-df-quickchart-complete:disabled,\n",
              "  .colab-df-quickchart-complete:disabled:hover {\n",
              "    background-color: var(--disabled-bg-color);\n",
              "    fill: var(--disabled-fill-color);\n",
              "    box-shadow: none;\n",
              "  }\n",
              "\n",
              "  .colab-df-spinner {\n",
              "    border: 2px solid var(--fill-color);\n",
              "    border-color: transparent;\n",
              "    border-bottom-color: var(--fill-color);\n",
              "    animation:\n",
              "      spin 1s steps(1) infinite;\n",
              "  }\n",
              "\n",
              "  @keyframes spin {\n",
              "    0% {\n",
              "      border-color: transparent;\n",
              "      border-bottom-color: var(--fill-color);\n",
              "      border-left-color: var(--fill-color);\n",
              "    }\n",
              "    20% {\n",
              "      border-color: transparent;\n",
              "      border-left-color: var(--fill-color);\n",
              "      border-top-color: var(--fill-color);\n",
              "    }\n",
              "    30% {\n",
              "      border-color: transparent;\n",
              "      border-left-color: var(--fill-color);\n",
              "      border-top-color: var(--fill-color);\n",
              "      border-right-color: var(--fill-color);\n",
              "    }\n",
              "    40% {\n",
              "      border-color: transparent;\n",
              "      border-right-color: var(--fill-color);\n",
              "      border-top-color: var(--fill-color);\n",
              "    }\n",
              "    60% {\n",
              "      border-color: transparent;\n",
              "      border-right-color: var(--fill-color);\n",
              "    }\n",
              "    80% {\n",
              "      border-color: transparent;\n",
              "      border-right-color: var(--fill-color);\n",
              "      border-bottom-color: var(--fill-color);\n",
              "    }\n",
              "    90% {\n",
              "      border-color: transparent;\n",
              "      border-bottom-color: var(--fill-color);\n",
              "    }\n",
              "  }\n",
              "</style>\n",
              "\n",
              "  <script>\n",
              "    async function quickchart(key) {\n",
              "      const quickchartButtonEl =\n",
              "        document.querySelector('#' + key + ' button');\n",
              "      quickchartButtonEl.disabled = true;  // To prevent multiple clicks.\n",
              "      quickchartButtonEl.classList.add('colab-df-spinner');\n",
              "      try {\n",
              "        const charts = await google.colab.kernel.invokeFunction(\n",
              "            'suggestCharts', [key], {});\n",
              "      } catch (error) {\n",
              "        console.error('Error during call to suggestCharts:', error);\n",
              "      }\n",
              "      quickchartButtonEl.classList.remove('colab-df-spinner');\n",
              "      quickchartButtonEl.classList.add('colab-df-quickchart-complete');\n",
              "    }\n",
              "    (() => {\n",
              "      let quickchartButtonEl =\n",
              "        document.querySelector('#df-eb6d2988-4347-44f5-8820-bcfca10b59d4 button');\n",
              "      quickchartButtonEl.style.display =\n",
              "        google.colab.kernel.accessAllowed ? 'block' : 'none';\n",
              "    })();\n",
              "  </script>\n",
              "</div>\n",
              "\n",
              "    </div>\n",
              "  </div>\n"
            ],
            "application/vnd.google.colaboratory.intrinsic+json": {
              "type": "dataframe",
              "variable_name": "df"
            }
          },
          "metadata": {},
          "execution_count": 4
        }
      ]
    },
    {
      "cell_type": "code",
      "source": [
        "df['sentence1_length'] = df['question_1'].apply(lambda x: len(x.split()))\n",
        "df['sentence2_length'] = df['question_2'].apply(lambda x: len(x.split()))"
      ],
      "metadata": {
        "id": "iLwifjL1C8HP"
      },
      "execution_count": null,
      "outputs": []
    },
    {
      "cell_type": "code",
      "source": [
        "plt.figure(figsize=(12, 6))\n",
        "sns.histplot(df['sentence1_length'], bins=50, kde=True, color='blue', label='sentence1 length')\n",
        "sns.histplot(df['sentence2_length'], bins=50, kde=True, color='green', label='sentence2 length')\n",
        "plt.legend()\n",
        "plt.title('Distribusi Panjang Kalimat (sentence1 dan sentence2)')\n",
        "plt.xlabel('Panjang Kalimat')\n",
        "plt.ylabel('Frekuensi')\n",
        "plt.show()"
      ],
      "metadata": {
        "colab": {
          "base_uri": "https://localhost:8080/",
          "height": 564
        },
        "id": "k_OXylp8GiGY",
        "outputId": "89bd58bf-cc08-41ea-e3b0-d87e782e5e67"
      },
      "execution_count": null,
      "outputs": [
        {
          "output_type": "display_data",
          "data": {
            "text/plain": [
              "<Figure size 1200x600 with 1 Axes>"
            ],
            "image/png": "[encoded data removed]"
          },
          "metadata": {}
        }
      ]
    },
    {
      "cell_type": "code",
      "source": [
        "X = df['question_1']\n",
        "y = df['question_2']"
      ],
      "metadata": {
        "id": "Nm6HBVv3Ik6m"
      },
      "execution_count": null,
      "outputs": []
    },
    {
      "cell_type": "code",
      "source": [
        "X.shape, y.shape"
      ],
      "metadata": {
        "colab": {
          "base_uri": "https://localhost:8080/"
        },
        "id": "F8uEH1-CvsdH",
        "outputId": "2669eb28-a235-4b4d-e436-25777ea0758e"
      },
      "execution_count": null,
      "outputs": [
        {
          "output_type": "execute_result",
          "data": {
            "text/plain": [
              "((134084,), (134084,))"
            ]
          },
          "metadata": {},
          "execution_count": 8
        }
      ]
    },
    {
      "cell_type": "code",
      "source": [
        "tokenizer = Tokenizer()\n",
        "tokenizer.fit_on_texts(pd.concat([X, y]).values)  # Menggabungkan kolom untuk kosakata"
      ],
      "metadata": {
        "id": "ev-P1EznIlfZ"
      },
      "execution_count": null,
      "outputs": []
    },
    {
      "cell_type": "code",
      "source": [
        "X_seq = tokenizer.texts_to_sequences(X)\n",
        "y_seq = tokenizer.texts_to_sequences(y)"
      ],
      "metadata": {
        "id": "__r5W7XOIsh2"
      },
      "execution_count": null,
      "outputs": []
    },
    {
      "cell_type": "code",
      "source": [
        "# max_length = 30\n",
        "vocab_size = len(tokenizer.word_index) + 1  # Menambah +1 untuk kata yang tidak dikenal\n",
        "embedding_dim = 100\n",
        "max_length = max(max(len(seq) for seq in X_seq), max(len(seq) for seq in y_seq))"
      ],
      "metadata": {
        "id": "UfsE1z7UKCK2"
      },
      "execution_count": null,
      "outputs": []
    },
    {
      "cell_type": "code",
      "source": [
        "X_padded = pad_sequences(X_seq, maxlen=max_length, padding='post', truncating='post')\n",
        "y_padded = pad_sequences(y_seq, maxlen=max_length, padding='post', truncating='post')"
      ],
      "metadata": {
        "id": "owSOCADLIuOl"
      },
      "execution_count": null,
      "outputs": []
    },
    {
      "cell_type": "code",
      "source": [
        "# X_train, X_test, y_train, y_test = train_test_split(X_padded, y_padded, test_size=0.2, random_state=42)"
      ],
      "metadata": {
        "id": "D8ohLTMlIwHM"
      },
      "execution_count": null,
      "outputs": []
    },
    {
      "cell_type": "code",
      "source": [
        "# X_train.shape, X_test.shape, y_train.shape, y_test.shape"
      ],
      "metadata": {
        "id": "tVJSRb_UvyUB"
      },
      "execution_count": null,
      "outputs": []
    },
    {
      "cell_type": "code",
      "source": [
        "model = Sequential([\n",
        "    Embedding(input_dim=vocab_size, output_dim=embedding_dim, input_length=max_length),\n",
        "    LSTM(64, return_sequences=True),\n",
        "    Dense(vocab_size, activation='softmax')\n",
        "])\n",
        "\n",
        "# Compile Model\n",
        "model.compile(optimizer=Adam(learning_rate=0.001), loss='sparse_categorical_crossentropy', metrics=['accuracy'])\n",
        "\n",
        "checkpoint = ModelCheckpoint(\n",
        "    filepath='best_model_LSTM_{val_accuracy:.4f}.keras',  # Filepath to save the model\n",
        "    monitor='val_accuracy',    # Metric to monitor\n",
        "    save_best_only=True,       # Save only the best model\n",
        "    mode='max',                # 'max' because we want the highest val_accuracy\n",
        "    verbose=1\n",
        ")\n",
        "# Early Stopping untuk mencegah overfitting\n",
        "early_stopping = EarlyStopping(monitor='val_loss', patience=3, restore_best_weights=True)\n",
        "\n",
        "# Train the Model\n",
        "history = model.fit(X_padded, y_padded, epochs=50, batch_size=32, validation_split=0.2, callbacks=[early_stopping, checkpoint])\n",
        "model.summary()"
      ],
      "metadata": {
        "colab": {
          "base_uri": "https://localhost:8080/",
          "height": 1000
        },
        "id": "TBgKgxJkJbv3",
        "outputId": "239f441f-1345-42c2-920a-18488febcde9"
      },
      "execution_count": null,
      "outputs": [
        {
          "output_type": "stream",
          "name": "stderr",
          "text": [
            "/usr/local/lib/python3.10/dist-packages/keras/src/layers/core/embedding.py:90: UserWarning: Argument `input_length` is deprecated. Just remove it.\n",
            "  warnings.warn(\n"
          ]
        },
        {
          "output_type": "stream",
          "name": "stdout",
          "text": [
            "Epoch 1/50\n",
            "\u001b[1m3353/3353\u001b[0m \u001b[32m━━━━━━━━━━━━━━━━━━━━\u001b[0m\u001b[37m\u001b[0m \u001b[1m0s\u001b[0m 65ms/step - accuracy: 0.8799 - loss: 1.5050\n",
            "Epoch 1: val_accuracy improved from -inf to 0.89423, saving model to best_model_LSTM_0.8942.keras\n",
            "\u001b[1m3353/3353\u001b[0m \u001b[32m━━━━━━━━━━━━━━━━━━━━\u001b[0m\u001b[37m\u001b[0m \u001b[1m262s\u001b[0m 76ms/step - accuracy: 0.8799 - loss: 1.5048 - val_accuracy: 0.8942 - val_loss: 0.7599\n",
            "Epoch 2/50\n",
            "\u001b[1m3352/3353\u001b[0m \u001b[32m━━━━━━━━━━━━━━━━━━━\u001b[0m\u001b[37m━\u001b[0m \u001b[1m0s\u001b[0m 66ms/step - accuracy: 0.8961 - loss: 0.7302\n",
            "Epoch 2: val_accuracy improved from 0.89423 to 0.89865, saving model to best_model_LSTM_0.8987.keras\n",
            "\u001b[1m3353/3353\u001b[0m \u001b[32m━━━━━━━━━━━━━━━━━━━━\u001b[0m\u001b[37m\u001b[0m \u001b[1m262s\u001b[0m 78ms/step - accuracy: 0.8961 - loss: 0.7301 - val_accuracy: 0.8987 - val_loss: 0.6943\n",
            "Epoch 3/50\n",
            "\u001b[1m3352/3353\u001b[0m \u001b[32m━━━━━━━━━━━━━━━━━━━\u001b[0m\u001b[37m━\u001b[0m \u001b[1m0s\u001b[0m 66ms/step - accuracy: 0.8997 - loss: 0.6646\n",
            "Epoch 3: val_accuracy improved from 0.89865 to 0.90035, saving model to best_model_LSTM_0.9003.keras\n",
            "\u001b[1m3353/3353\u001b[0m \u001b[32m━━━━━━━━━━━━━━━━━━━━\u001b[0m\u001b[37m\u001b[0m \u001b[1m319s\u001b[0m 77ms/step - accuracy: 0.8997 - loss: 0.6646 - val_accuracy: 0.9003 - val_loss: 0.6604\n",
            "Epoch 4/50\n",
            "\u001b[1m3352/3353\u001b[0m \u001b[32m━━━━━━━━━━━━━━━━━━━\u001b[0m\u001b[37m━\u001b[0m \u001b[1m0s\u001b[0m 66ms/step - accuracy: 0.9018 - loss: 0.6241\n",
            "Epoch 4: val_accuracy improved from 0.90035 to 0.90181, saving model to best_model_LSTM_0.9018.keras\n",
            "\u001b[1m3353/3353\u001b[0m \u001b[32m━━━━━━━━━━━━━━━━━━━━\u001b[0m\u001b[37m\u001b[0m \u001b[1m262s\u001b[0m 77ms/step - accuracy: 0.9018 - loss: 0.6241 - val_accuracy: 0.9018 - val_loss: 0.6410\n",
            "Epoch 5/50\n",
            "\u001b[1m3352/3353\u001b[0m \u001b[32m━━━━━━━━━━━━━━━━━━━\u001b[0m\u001b[37m━\u001b[0m \u001b[1m0s\u001b[0m 66ms/step - accuracy: 0.9034 - loss: 0.5934\n",
            "Epoch 5: val_accuracy improved from 0.90181 to 0.90246, saving model to best_model_LSTM_0.9025.keras\n",
            "\u001b[1m3353/3353\u001b[0m \u001b[32m━━━━━━━━━━━━━━━━━━━━\u001b[0m\u001b[37m\u001b[0m \u001b[1m263s\u001b[0m 78ms/step - accuracy: 0.9034 - loss: 0.5934 - val_accuracy: 0.9025 - val_loss: 0.6266\n",
            "Epoch 6/50\n",
            "\u001b[1m3352/3353\u001b[0m \u001b[32m━━━━━━━━━━━━━━━━━━━\u001b[0m\u001b[37m━\u001b[0m \u001b[1m0s\u001b[0m 66ms/step - accuracy: 0.9045 - loss: 0.5732\n",
            "Epoch 6: val_accuracy improved from 0.90246 to 0.90306, saving model to best_model_LSTM_0.9031.keras\n",
            "\u001b[1m3353/3353\u001b[0m \u001b[32m━━━━━━━━━━━━━━━━━━━━\u001b[0m\u001b[37m\u001b[0m \u001b[1m319s\u001b[0m 77ms/step - accuracy: 0.9045 - loss: 0.5732 - val_accuracy: 0.9031 - val_loss: 0.6185\n",
            "Epoch 7/50\n",
            "\u001b[1m3352/3353\u001b[0m \u001b[32m━━━━━━━━━━━━━━━━━━━\u001b[0m\u001b[37m━\u001b[0m \u001b[1m0s\u001b[0m 66ms/step - accuracy: 0.9058 - loss: 0.5517\n",
            "Epoch 7: val_accuracy improved from 0.90306 to 0.90332, saving model to best_model_LSTM_0.9033.keras\n",
            "\u001b[1m3353/3353\u001b[0m \u001b[32m━━━━━━━━━━━━━━━━━━━━\u001b[0m\u001b[37m\u001b[0m \u001b[1m262s\u001b[0m 78ms/step - accuracy: 0.9058 - loss: 0.5517 - val_accuracy: 0.9033 - val_loss: 0.6120\n",
            "Epoch 8/50\n",
            "\u001b[1m3352/3353\u001b[0m \u001b[32m━━━━━━━━━━━━━━━━━━━\u001b[0m\u001b[37m━\u001b[0m \u001b[1m0s\u001b[0m 66ms/step - accuracy: 0.9061 - loss: 0.5415\n",
            "Epoch 8: val_accuracy improved from 0.90332 to 0.90376, saving model to best_model_LSTM_0.9038.keras\n",
            "\u001b[1m3353/3353\u001b[0m \u001b[32m━━━━━━━━━━━━━━━━━━━━\u001b[0m\u001b[37m\u001b[0m \u001b[1m319s\u001b[0m 77ms/step - accuracy: 0.9061 - loss: 0.5415 - val_accuracy: 0.9038 - val_loss: 0.6087\n",
            "Epoch 9/50\n",
            "\u001b[1m3352/3353\u001b[0m \u001b[32m━━━━━━━━━━━━━━━━━━━\u001b[0m\u001b[37m━\u001b[0m \u001b[1m0s\u001b[0m 66ms/step - accuracy: 0.9071 - loss: 0.5280\n",
            "Epoch 9: val_accuracy did not improve from 0.90376\n",
            "\u001b[1m3353/3353\u001b[0m \u001b[32m━━━━━━━━━━━━━━━━━━━━\u001b[0m\u001b[37m\u001b[0m \u001b[1m263s\u001b[0m 77ms/step - accuracy: 0.9071 - loss: 0.5280 - val_accuracy: 0.9036 - val_loss: 0.6063\n",
            "Epoch 10/50\n",
            "\u001b[1m3352/3353\u001b[0m \u001b[32m━━━━━━━━━━━━━━━━━━━\u001b[0m\u001b[37m━\u001b[0m \u001b[1m0s\u001b[0m 66ms/step - accuracy: 0.9076 - loss: 0.5181\n",
            "Epoch 10: val_accuracy did not improve from 0.90376\n",
            "\u001b[1m3353/3353\u001b[0m \u001b[32m━━━━━━━━━━━━━━━━━━━━\u001b[0m\u001b[37m\u001b[0m \u001b[1m266s\u001b[0m 79ms/step - accuracy: 0.9076 - loss: 0.5181 - val_accuracy: 0.9035 - val_loss: 0.6043\n",
            "Epoch 11/50\n",
            "\u001b[1m3352/3353\u001b[0m \u001b[32m━━━━━━━━━━━━━━━━━━━\u001b[0m\u001b[37m━\u001b[0m \u001b[1m0s\u001b[0m 66ms/step - accuracy: 0.9083 - loss: 0.5077\n",
            "Epoch 11: val_accuracy improved from 0.90376 to 0.90382, saving model to best_model_LSTM_0.9038.keras\n",
            "\u001b[1m3353/3353\u001b[0m \u001b[32m━━━━━━━━━━━━━━━━━━━━\u001b[0m\u001b[37m\u001b[0m \u001b[1m322s\u001b[0m 79ms/step - accuracy: 0.9083 - loss: 0.5077 - val_accuracy: 0.9038 - val_loss: 0.6027\n",
            "Epoch 12/50\n",
            "\u001b[1m3352/3353\u001b[0m \u001b[32m━━━━━━━━━━━━━━━━━━━\u001b[0m\u001b[37m━\u001b[0m \u001b[1m0s\u001b[0m 66ms/step - accuracy: 0.9088 - loss: 0.4999\n",
            "Epoch 12: val_accuracy improved from 0.90382 to 0.90382, saving model to best_model_LSTM_0.9038.keras\n",
            "\u001b[1m3353/3353\u001b[0m \u001b[32m━━━━━━━━━━━━━━━━━━━━\u001b[0m\u001b[37m\u001b[0m \u001b[1m319s\u001b[0m 78ms/step - accuracy: 0.9088 - loss: 0.4999 - val_accuracy: 0.9038 - val_loss: 0.6031\n",
            "Epoch 13/50\n",
            "\u001b[1m3352/3353\u001b[0m \u001b[32m━━━━━━━━━━━━━━━━━━━\u001b[0m\u001b[37m━\u001b[0m \u001b[1m0s\u001b[0m 66ms/step - accuracy: 0.9096 - loss: 0.4913\n",
            "Epoch 13: val_accuracy did not improve from 0.90382\n",
            "\u001b[1m3353/3353\u001b[0m \u001b[32m━━━━━━━━━━━━━━━━━━━━\u001b[0m\u001b[37m\u001b[0m \u001b[1m261s\u001b[0m 78ms/step - accuracy: 0.9096 - loss: 0.4914 - val_accuracy: 0.9035 - val_loss: 0.6051\n",
            "Epoch 14/50\n",
            "\u001b[1m3352/3353\u001b[0m \u001b[32m━━━━━━━━━━━━━━━━━━━\u001b[0m\u001b[37m━\u001b[0m \u001b[1m0s\u001b[0m 66ms/step - accuracy: 0.9099 - loss: 0.4847\n",
            "Epoch 14: val_accuracy did not improve from 0.90382\n",
            "\u001b[1m3353/3353\u001b[0m \u001b[32m━━━━━━━━━━━━━━━━━━━━\u001b[0m\u001b[37m\u001b[0m \u001b[1m265s\u001b[0m 79ms/step - accuracy: 0.9099 - loss: 0.4848 - val_accuracy: 0.9034 - val_loss: 0.6040\n"
          ]
        },
        {
          "output_type": "display_data",
          "data": {
            "text/plain": [
              "\u001b[1mModel: \"sequential\"\u001b[0m\n"
            ],
            "text/html": [
              "<pre style=\"white-space:pre;overflow-x:auto;line-height:normal;font-family:Menlo,'DejaVu Sans Mono',consolas,'Courier New',monospace\"><span style=\"font-weight: bold\">Model: \"sequential\"</span>\n",
              "</pre>\n"
            ]
          },
          "metadata": {}
        },
        {
          "output_type": "display_data",
          "data": {
            "text/plain": [
              "┏━━━━━━━━━━━━━━━━━━━━━━━━━━━━━━━━━━━━━━┳━━━━━━━━━━━━━━━━━━━━━━━━━━━━━┳━━━━━━━━━━━━━━━━━┓\n",
              "┃\u001b[1m \u001b[0m\u001b[1mLayer (type)                        \u001b[0m\u001b[1m \u001b[0m┃\u001b[1m \u001b[0m\u001b[1mOutput Shape               \u001b[0m\u001b[1m \u001b[0m┃\u001b[1m \u001b[0m\u001b[1m        Param #\u001b[0m\u001b[1m \u001b[0m┃\n",
              "┡━━━━━━━━━━━━━━━━━━━━━━━━━━━━━━━━━━━━━━╇━━━━━━━━━━━━━━━━━━━━━━━━━━━━━╇━━━━━━━━━━━━━━━━━┩\n",
              "│ embedding (\u001b[38;5;33mEmbedding\u001b[0m)                │ (\u001b[38;5;45mNone\u001b[0m, \u001b[38;5;34m72\u001b[0m, \u001b[38;5;34m100\u001b[0m)             │       \u001b[38;5;34m2,621,500\u001b[0m │\n",
              "├──────────────────────────────────────┼─────────────────────────────┼─────────────────┤\n",
              "│ lstm (\u001b[38;5;33mLSTM\u001b[0m)                          │ (\u001b[38;5;45mNone\u001b[0m, \u001b[38;5;34m72\u001b[0m, \u001b[38;5;34m64\u001b[0m)              │          \u001b[38;5;34m42,240\u001b[0m │\n",
              "├──────────────────────────────────────┼─────────────────────────────┼─────────────────┤\n",
              "│ dense (\u001b[38;5;33mDense\u001b[0m)                        │ (\u001b[38;5;45mNone\u001b[0m, \u001b[38;5;34m72\u001b[0m, \u001b[38;5;34m26215\u001b[0m)           │       \u001b[38;5;34m1,703,975\u001b[0m │\n",
              "└──────────────────────────────────────┴─────────────────────────────┴─────────────────┘\n"
            ],
            "text/html": [
              "<pre style=\"white-space:pre;overflow-x:auto;line-height:normal;font-family:Menlo,'DejaVu Sans Mono',consolas,'Courier New',monospace\">┏━━━━━━━━━━━━━━━━━━━━━━━━━━━━━━━━━━━━━━┳━━━━━━━━━━━━━━━━━━━━━━━━━━━━━┳━━━━━━━━━━━━━━━━━┓\n",
              "┃<span style=\"font-weight: bold\"> Layer (type)                         </span>┃<span style=\"font-weight: bold\"> Output Shape                </span>┃<span style=\"font-weight: bold\">         Param # </span>┃\n",
              "┡━━━━━━━━━━━━━━━━━━━━━━━━━━━━━━━━━━━━━━╇━━━━━━━━━━━━━━━━━━━━━━━━━━━━━╇━━━━━━━━━━━━━━━━━┩\n",
              "│ embedding (<span style=\"color: #0087ff; text-decoration-color: #0087ff\">Embedding</span>)                │ (<span style=\"color: #00d7ff; text-decoration-color: #00d7ff\">None</span>, <span style=\"color: #00af00; text-decoration-color: #00af00\">72</span>, <span style=\"color: #00af00; text-decoration-color: #00af00\">100</span>)             │       <span style=\"color: #00af00; text-decoration-color: #00af00\">2,621,500</span> │\n",
              "├──────────────────────────────────────┼─────────────────────────────┼─────────────────┤\n",
              "│ lstm (<span style=\"color: #0087ff; text-decoration-color: #0087ff\">LSTM</span>)                          │ (<span style=\"color: #00d7ff; text-decoration-color: #00d7ff\">None</span>, <span style=\"color: #00af00; text-decoration-color: #00af00\">72</span>, <span style=\"color: #00af00; text-decoration-color: #00af00\">64</span>)              │          <span style=\"color: #00af00; text-decoration-color: #00af00\">42,240</span> │\n",
              "├──────────────────────────────────────┼─────────────────────────────┼─────────────────┤\n",
              "│ dense (<span style=\"color: #0087ff; text-decoration-color: #0087ff\">Dense</span>)                        │ (<span style=\"color: #00d7ff; text-decoration-color: #00d7ff\">None</span>, <span style=\"color: #00af00; text-decoration-color: #00af00\">72</span>, <span style=\"color: #00af00; text-decoration-color: #00af00\">26215</span>)           │       <span style=\"color: #00af00; text-decoration-color: #00af00\">1,703,975</span> │\n",
              "└──────────────────────────────────────┴─────────────────────────────┴─────────────────┘\n",
              "</pre>\n"
            ]
          },
          "metadata": {}
        },
        {
          "output_type": "display_data",
          "data": {
            "text/plain": [
              "\u001b[1m Total params: \u001b[0m\u001b[38;5;34m13,103,147\u001b[0m (49.98 MB)\n"
            ],
            "text/html": [
              "<pre style=\"white-space:pre;overflow-x:auto;line-height:normal;font-family:Menlo,'DejaVu Sans Mono',consolas,'Courier New',monospace\"><span style=\"font-weight: bold\"> Total params: </span><span style=\"color: #00af00; text-decoration-color: #00af00\">13,103,147</span> (49.98 MB)\n",
              "</pre>\n"
            ]
          },
          "metadata": {}
        },
        {
          "output_type": "display_data",
          "data": {
            "text/plain": [
              "\u001b[1m Trainable params: \u001b[0m\u001b[38;5;34m4,367,715\u001b[0m (16.66 MB)\n"
            ],
            "text/html": [
              "<pre style=\"white-space:pre;overflow-x:auto;line-height:normal;font-family:Menlo,'DejaVu Sans Mono',consolas,'Courier New',monospace\"><span style=\"font-weight: bold\"> Trainable params: </span><span style=\"color: #00af00; text-decoration-color: #00af00\">4,367,715</span> (16.66 MB)\n",
              "</pre>\n"
            ]
          },
          "metadata": {}
        },
        {
          "output_type": "display_data",
          "data": {
            "text/plain": [
              "\u001b[1m Non-trainable params: \u001b[0m\u001b[38;5;34m0\u001b[0m (0.00 B)\n"
            ],
            "text/html": [
              "<pre style=\"white-space:pre;overflow-x:auto;line-height:normal;font-family:Menlo,'DejaVu Sans Mono',consolas,'Courier New',monospace\"><span style=\"font-weight: bold\"> Non-trainable params: </span><span style=\"color: #00af00; text-decoration-color: #00af00\">0</span> (0.00 B)\n",
              "</pre>\n"
            ]
          },
          "metadata": {}
        },
        {
          "output_type": "display_data",
          "data": {
            "text/plain": [
              "\u001b[1m Optimizer params: \u001b[0m\u001b[38;5;34m8,735,432\u001b[0m (33.32 MB)\n"
            ],
            "text/html": [
              "<pre style=\"white-space:pre;overflow-x:auto;line-height:normal;font-family:Menlo,'DejaVu Sans Mono',consolas,'Courier New',monospace\"><span style=\"font-weight: bold\"> Optimizer params: </span><span style=\"color: #00af00; text-decoration-color: #00af00\">8,735,432</span> (33.32 MB)\n",
              "</pre>\n"
            ]
          },
          "metadata": {}
        }
      ]
    },
    {
      "cell_type": "code",
      "source": [
        "# Plot Training & Validation Accuracy and Loss\n",
        "plt.figure(figsize=(12, 6))\n",
        "\n",
        "# Plot Accuracy\n",
        "plt.subplot(1, 2, 1)\n",
        "plt.plot(history.history['accuracy'], label='Training Accuracy')\n",
        "plt.plot(history.history['val_accuracy'], label='Validation Accuracy')\n",
        "plt.xlabel('Epochs')\n",
        "plt.ylabel('Accuracy')\n",
        "plt.legend()\n",
        "plt.title('Training and Validation Accuracy')\n",
        "\n",
        "# Plot Loss\n",
        "plt.subplot(1, 2, 2)\n",
        "plt.plot(history.history['loss'], label='Training Loss')\n",
        "plt.plot(history.history['val_loss'], label='Validation Loss')\n",
        "plt.xlabel('Epochs')\n",
        "plt.ylabel('Loss')\n",
        "plt.legend()\n",
        "plt.title('Training and Validation Loss')\n",
        "plt.show()"
      ],
      "metadata": {
        "colab": {
          "base_uri": "https://localhost:8080/",
          "height": 564
        },
        "id": "Hhg-f3KyJfrj",
        "outputId": "1a03e852-3bf1-41af-afd5-681678ecbd54"
      },
      "execution_count": null,
      "outputs": [
        {
          "output_type": "display_data",
          "data": {
            "text/plain": [
              "<Figure size 1200x600 with 2 Axes>"
            ],
            "image/png": "[encoded data removed]"
          },
          "metadata": {}
        }
      ]
    },
    {
      "cell_type": "code",
      "source": [
        "# Preprocessing input\n",
        "input_padded = \"bagaimana cara mempelajari jaringan komputer\"  # Ganti dengan kalimat yang lebih sederhana\n",
        "\n",
        "input_seq = tokenizer.texts_to_sequences([input_padded])\n",
        "input_padded = pad_sequences(input_seq, maxlen=max_length, padding='post')\n",
        "\n",
        "# Menghasilkan prediksi\n",
        "predicted = model.predict(input_padded)\n",
        "\n",
        "# Mengecek output prediksi\n",
        "# print(\"Predicted probabilities:\", predicted)\n",
        "\n",
        "# Ambil kata dengan probabilitas tertinggi untuk setiap langkah\n",
        "predicted_indices = np.argmax(predicted, axis=-1)\n",
        "\n",
        "# Konversi indeks ke kata\n",
        "predicted_words = [tokenizer.index_word.get(index, '') for index in predicted_indices[0]]\n",
        "\n",
        "# Gabungkan kata-kata menjadi satu kalimat\n",
        "parafrase = ' '.join(predicted_words).replace('  ', ' ').strip()\n",
        "\n",
        "print(\"Parafrase:\", parafrase)"
      ],
      "metadata": {
        "colab": {
          "base_uri": "https://localhost:8080/"
        },
        "id": "DN_6hHuUNFFV",
        "outputId": "f794257b-300c-4c9d-d7de-bc8776017cf4"
      },
      "execution_count": null,
      "outputs": [
        {
          "output_type": "stream",
          "name": "stdout",
          "text": [
            "\u001b[1m1/1\u001b[0m \u001b[32m━━━━━━━━━━━━━━━━━━━━\u001b[0m\u001b[37m\u001b[0m \u001b[1m0s\u001b[0m 112ms/step\n",
            "Parafrase: bagaimana cara bisa jaringan komputer\n"
          ]
        }
      ]
    },
    {
      "cell_type": "code",
      "source": [
        "import nltk\n",
        "# nltk.download('punkt')\n",
        "from nltk.translate.bleu_score import sentence_bleu  # Import BLEU score\n",
        "\n",
        "# Kalimat referensi yang benar (misalnya, kalimat asli atau kalimat parafrase yang diinginkan)\n",
        "reference = \"bagaimana cara belajar jaringan komputer\"  # Ganti dengan kalimat referensi yang sesuai\n",
        "\n",
        "# Menghitung BLEU score\n",
        "reference_tokens = reference.split()  # Tokenisasi kalimat referensi\n",
        "predicted_tokens = parafrase.split()  # Tokenisasi kalimat hasil prediksi\n",
        "\n",
        "# Menghitung BLEU score\n",
        "bleu_score = sentence_bleu([reference_tokens], predicted_tokens)\n",
        "\n",
        "print(\"BLEU Score:\", bleu_score)"
      ],
      "metadata": {
        "colab": {
          "base_uri": "https://localhost:8080/"
        },
        "id": "rrXQqEHBNqDQ",
        "outputId": "e1e112f2-8010-416f-d405-37382c751d39"
      },
      "execution_count": null,
      "outputs": [
        {
          "output_type": "stream",
          "name": "stdout",
          "text": [
            "BLEU Score: 1.1862800137389335e-154\n"
          ]
        },
        {
          "output_type": "stream",
          "name": "stderr",
          "text": [
            "/usr/local/lib/python3.10/dist-packages/nltk/translate/bleu_score.py:577: UserWarning: \n",
            "The hypothesis contains 0 counts of 3-gram overlaps.\n",
            "Therefore the BLEU score evaluates to 0, independently of\n",
            "how many N-gram overlaps of lower order it contains.\n",
            "Consider using lower n-gram order or use SmoothingFunction()\n",
            "  warnings.warn(_msg)\n",
            "/usr/local/lib/python3.10/dist-packages/nltk/translate/bleu_score.py:577: UserWarning: \n",
            "The hypothesis contains 0 counts of 4-gram overlaps.\n",
            "Therefore the BLEU score evaluates to 0, independently of\n",
            "how many N-gram overlaps of lower order it contains.\n",
            "Consider using lower n-gram order or use SmoothingFunction()\n",
            "  warnings.warn(_msg)\n"
          ]
        }
      ]
    },
    {
      "cell_type": "code",
      "source": [
        "# Menyimpan model\n",
        "# model.save('paraphrase_LSTM_model.h5')\n"
      ],
      "metadata": {
        "id": "1bYjjIzxXmT0"
      },
      "execution_count": null,
      "outputs": []
    },
    {
      "cell_type": "code",
      "source": [
        "datatest = {\n",
        "    'question': [\n",
        "        \"Apa manfaat yoga untuk kesehatan?\",\n",
        "        \"Bagaimana cara membuat kue cokelat?\",\n",
        "        \"Mengapa penting untuk tidur cukup?\",\n",
        "        \"Apa perbedaan antara data dan informasi?\",\n",
        "        \"Apa yang harus dilakukan agar lebih produktif?\",\n",
        "        \"Bagaimana cara menjaga kesehatan jantung?\",\n",
        "        \"Apa saja manfaat belajar bahasa asing?\",\n",
        "        \"Mengapa olahraga penting bagi tubuh?\",\n",
        "        \"Apa itu ekonomi digital?\",\n",
        "        \"Apa yang dimaksud dengan kecerdasan buatan?\"\n",
        "    ],\n",
        "    'reference': [\n",
        "        \"Apa saja manfaat yoga bagi kesehatan tubuh?\",\n",
        "        \"Apa langkah-langkah untuk membuat kue cokelat?\",\n",
        "        \"Mengapa tidur yang cukup sangat penting untuk tubuh?\",\n",
        "        \"Apa yang membedakan antara data dan informasi?\",\n",
        "        \"Apa saja tips agar lebih produktif dalam bekerja?\",\n",
        "        \"Apa yang harus dilakukan untuk menjaga kesehatan jantung?\",\n",
        "        \"Apa keuntungan yang didapatkan dari belajar bahasa asing?\",\n",
        "        \"Apa alasan olahraga sangat penting untuk kesehatan tubuh?\",\n",
        "        \"Bagaimana ekonomi digital memengaruhi kehidupan kita?\",\n",
        "        \"Apa itu AI dan bagaimana cara kerjanya?\"\n",
        "    ]\n",
        "}"
      ],
      "metadata": {
        "id": "aPzTdZRjXyID"
      },
      "execution_count": null,
      "outputs": []
    },
    {
      "cell_type": "code",
      "source": [
        "# Membuat DataFrame\n",
        "df2 = pd.DataFrame(datatest)\n",
        "\n",
        "# Preprocessing data\n",
        "tokenizer = Tokenizer()\n",
        "tokenizer.fit_on_texts(df2['question'].tolist() + df2['reference'].tolist())  # Gabungkan kedua kolom untuk pelatihan tokenizer\n",
        "max_length = max(df2['question'].apply(lambda x: len(x.split())).max(),\n",
        "                 df2['reference'].apply(lambda x: len(x.split())).max())\n",
        "\n",
        "# Tokenisasi input dan referensi\n",
        "question_seq = tokenizer.texts_to_sequences(df2['question'].tolist())\n",
        "reference_seq = tokenizer.texts_to_sequences(df2['reference'].tolist())\n",
        "\n",
        "question_padded = pad_sequences(question_seq, maxlen=max_length, padding='post')\n",
        "reference_padded = pad_sequences(reference_seq, maxlen=max_length, padding='post')"
      ],
      "metadata": {
        "id": "ozWYInd5X5Af"
      },
      "execution_count": null,
      "outputs": []
    },
    {
      "cell_type": "code",
      "source": [
        "# from tensorflow.keras.models import load_model\n",
        "# model = load_model('paraphrase_LSTM_model.h5')#'best_model_LSTM_0.9040.keras')"
      ],
      "metadata": {
        "id": "NaG1cZdkYQTa"
      },
      "execution_count": null,
      "outputs": []
    },
    {
      "cell_type": "code",
      "source": [
        "# Fungsi untuk memprediksi parafrase\n",
        "def predict_paraphrase(input_text):\n",
        "    input_seq = tokenizer.texts_to_sequences([input_text])\n",
        "    input_padded = pad_sequences(input_seq, maxlen=max_length, padding='post')\n",
        "    prediction = model.predict(input_padded)\n",
        "\n",
        "    # Ambil prediksi dengan nilai tertinggi (berdasarkan probabilitas)\n",
        "    predicted_tokens = np.argmax(prediction, axis=-1)[0]\n",
        "\n",
        "    # Mengonversi kembali token menjadi teks\n",
        "    predicted_text = tokenizer.sequences_to_texts([predicted_tokens])[0]\n",
        "    return predicted_text\n",
        "\n",
        "# Menggunakan SmoothingFunction untuk BLEU score\n",
        "smoothing = SmoothingFunction().method1\n",
        "\n",
        "# Melakukan prediksi dan menghitung BLEU score untuk setiap kalimat dalam DataFrame\n",
        "for i in range(len(df2)):\n",
        "    input_question = df2['question'][i]\n",
        "    reference_paraphrase = df2['reference'][i]\n",
        "\n",
        "    # Prediksi parafrase\n",
        "    predicted_paraphrase = predict_paraphrase(input_question)\n",
        "\n",
        "    # Tokenisasi referensi dan hasil prediksi untuk BLEU score\n",
        "    reference_tokens = tokenizer.texts_to_sequences([reference_paraphrase])[0]\n",
        "    predicted_tokens = tokenizer.texts_to_sequences([predicted_paraphrase])[0]\n",
        "\n",
        "    # Menghitung BLEU score\n",
        "    bleu_score = sentence_bleu([reference_tokens], predicted_tokens, smoothing_function=smoothing)\n",
        "\n",
        "    # Menampilkan hasil\n",
        "    print(f\"Pertanyaan: {input_question}\")\n",
        "    print(f\"Parafrase yang diprediksi: {predicted_paraphrase}\")\n",
        "    print(f\"Referensi: {reference_paraphrase}\")\n",
        "    print(f\"BLEU score: {bleu_score:.4f}\")\n",
        "    print(\"-\" * 50)"
      ],
      "metadata": {
        "colab": {
          "base_uri": "https://localhost:8080/"
        },
        "id": "Qi_R1-f1YdJT",
        "outputId": "558f77cf-359d-4e20-b480-4567db672a67"
      },
      "execution_count": null,
      "outputs": [
        {
          "output_type": "stream",
          "name": "stdout",
          "text": [
            "\u001b[1m1/1\u001b[0m \u001b[32m━━━━━━━━━━━━━━━━━━━━\u001b[0m\u001b[37m\u001b[0m \u001b[1m0s\u001b[0m 142ms/step\n",
            "Pertanyaan: Apa manfaat yoga untuk kesehatan?\n",
            "Parafrase yang diprediksi: apa informasi tubuh untuk\n",
            "Referensi: Apa saja manfaat yoga bagi kesehatan tubuh?\n",
            "BLEU score: 0.0451\n",
            "--------------------------------------------------\n",
            "\u001b[1m1/1\u001b[0m \u001b[32m━━━━━━━━━━━━━━━━━━━━\u001b[0m\u001b[37m\u001b[0m \u001b[1m0s\u001b[0m 23ms/step\n",
            "Pertanyaan: Bagaimana cara membuat kue cokelat?\n",
            "Parafrase yang diprediksi: apa untuk untuk kue kue kue kue\n",
            "Referensi: Apa langkah-langkah untuk membuat kue cokelat?\n",
            "BLEU score: 0.0435\n",
            "--------------------------------------------------\n",
            "\u001b[1m1/1\u001b[0m \u001b[32m━━━━━━━━━━━━━━━━━━━━\u001b[0m\u001b[37m\u001b[0m \u001b[1m0s\u001b[0m 17ms/step\n",
            "Pertanyaan: Mengapa penting untuk tidur cukup?\n",
            "Parafrase yang diprediksi: kesehatan dilakukan untuk tidur penting\n",
            "Referensi: Mengapa tidur yang cukup sangat penting untuk tubuh?\n",
            "BLEU score: 0.0388\n",
            "--------------------------------------------------\n",
            "\u001b[1m1/1\u001b[0m \u001b[32m━━━━━━━━━━━━━━━━━━━━\u001b[0m\u001b[37m\u001b[0m \u001b[1m0s\u001b[0m 17ms/step\n",
            "Pertanyaan: Apa perbedaan antara data dan informasi?\n",
            "Parafrase yang diprediksi: apa jantung cara data data\n",
            "Referensi: Apa yang membedakan antara data dan informasi?\n",
            "BLEU score: 0.0428\n",
            "--------------------------------------------------\n",
            "\u001b[1m1/1\u001b[0m \u001b[32m━━━━━━━━━━━━━━━━━━━━\u001b[0m\u001b[37m\u001b[0m \u001b[1m0s\u001b[0m 17ms/step\n",
            "Pertanyaan: Apa yang harus dilakukan agar lebih produktif?\n",
            "Parafrase yang diprediksi: apa yang antara untuk agar agar bagaimana\n",
            "Referensi: Apa saja tips agar lebih produktif dalam bekerja?\n",
            "BLEU score: 0.0341\n",
            "--------------------------------------------------\n",
            "\u001b[1m1/1\u001b[0m \u001b[32m━━━━━━━━━━━━━━━━━━━━\u001b[0m\u001b[37m\u001b[0m \u001b[1m0s\u001b[0m 17ms/step\n",
            "Pertanyaan: Bagaimana cara menjaga kesehatan jantung?\n",
            "Parafrase yang diprediksi: apa untuk untuk menjaga menjaga\n",
            "Referensi: Apa yang harus dilakukan untuk menjaga kesehatan jantung?\n",
            "BLEU score: 0.0690\n",
            "--------------------------------------------------\n",
            "\u001b[1m1/1\u001b[0m \u001b[32m━━━━━━━━━━━━━━━━━━━━\u001b[0m\u001b[37m\u001b[0m \u001b[1m0s\u001b[0m 17ms/step\n",
            "Pertanyaan: Apa saja manfaat belajar bahasa asing?\n",
            "Parafrase yang diprediksi: apa saja mengapa bagaimana\n",
            "Referensi: Apa keuntungan yang didapatkan dari belajar bahasa asing?\n",
            "BLEU score: 0.0296\n",
            "--------------------------------------------------\n",
            "\u001b[1m1/1\u001b[0m \u001b[32m━━━━━━━━━━━━━━━━━━━━\u001b[0m\u001b[37m\u001b[0m \u001b[1m0s\u001b[0m 22ms/step\n",
            "Pertanyaan: Mengapa olahraga penting bagi tubuh?\n",
            "Parafrase yang diprediksi: kesehatan olahraga olahraga bagi olahraga\n",
            "Referensi: Apa alasan olahraga sangat penting untuk kesehatan tubuh?\n",
            "BLEU score: 0.0351\n",
            "--------------------------------------------------\n",
            "\u001b[1m1/1\u001b[0m \u001b[32m━━━━━━━━━━━━━━━━━━━━\u001b[0m\u001b[37m\u001b[0m \u001b[1m0s\u001b[0m 17ms/step\n",
            "Pertanyaan: Apa itu ekonomi digital?\n",
            "Parafrase yang diprediksi: apa informasi ekonomi digital\n",
            "Referensi: Bagaimana ekonomi digital memengaruhi kehidupan kita?\n",
            "BLEU score: 0.1031\n",
            "--------------------------------------------------\n",
            "\u001b[1m1/1\u001b[0m \u001b[32m━━━━━━━━━━━━━━━━━━━━\u001b[0m\u001b[37m\u001b[0m \u001b[1m0s\u001b[0m 17ms/step\n",
            "Pertanyaan: Apa yang dimaksud dengan kecerdasan buatan?\n",
            "Parafrase yang diprediksi: apa yang dimaksud dimaksud kecerdasan untuk\n",
            "Referensi: Apa itu AI dan bagaimana cara kerjanya?\n",
            "BLEU score: 0.0346\n",
            "--------------------------------------------------\n"
          ]
        }
      ]
    },
    {
      "cell_type": "code",
      "source": [
        "# Preprocessing input\n",
        "input_padded = \"sehat itu mahal\"  # Ganti dengan kalimat yang lebih sederhana\n",
        "\n",
        "input_seq = tokenizer.texts_to_sequences([input_padded])\n",
        "input_padded = pad_sequences(input_seq, maxlen=max_length, padding='post')\n",
        "\n",
        "# Menghasilkan prediksi\n",
        "predicted = model.predict(input_padded)\n",
        "\n",
        "# Mengecek output prediksi\n",
        "# print(\"Predicted probabilities:\", predicted)\n",
        "\n",
        "# Ambil kata dengan probabilitas tertinggi untuk setiap langkah\n",
        "predicted_indices = np.argmax(predicted, axis=-1)\n",
        "\n",
        "# Konversi indeks ke kata\n",
        "predicted_words = [tokenizer.index_word.get(index, '') for index in predicted_indices[0]]\n",
        "\n",
        "# Gabungkan kata-kata menjadi satu kalimat\n",
        "parafrase = ' '.join(predicted_words).replace('  ', ' ').strip()\n",
        "\n",
        "print(\"Parafrase:\", parafrase)"
      ],
      "metadata": {
        "colab": {
          "base_uri": "https://localhost:8080/"
        },
        "id": "n4PJNFTdCpFh",
        "outputId": "d7b87959-3e14-4f63-9a95-0c8bdaf034e2"
      },
      "execution_count": null,
      "outputs": [
        {
          "output_type": "stream",
          "name": "stdout",
          "text": [
            "\u001b[1m1/1\u001b[0m \u001b[32m━━━━━━━━━━━━━━━━━━━━\u001b[0m\u001b[37m\u001b[0m \u001b[1m0s\u001b[0m 17ms/step\n",
            "Parafrase: kesehatan\n"
          ]
        }
      ]
    },
    {
      "cell_type": "code",
      "source": [
        "# Kalimat referensi yang benar (misalnya, kalimat asli atau kalimat parafrase yang diinginkan)\n",
        "reference = \"kesehatan itu mahal\"  # Ganti dengan kalimat referensi yang sesuai\n",
        "\n",
        "# Menghitung BLEU score\n",
        "reference_tokens = reference.split()  # Tokenisasi kalimat referensi\n",
        "predicted_tokens = parafrase.split()  # Tokenisasi kalimat hasil prediksi\n",
        "\n",
        "# Menghitung BLEU score\n",
        "bleu_score = sentence_bleu([reference_tokens], predicted_tokens)\n",
        "\n",
        "print(\"BLEU Score:\", bleu_score)"
      ],
      "metadata": {
        "colab": {
          "base_uri": "https://localhost:8080/"
        },
        "id": "s_ns-cHwDPu7",
        "outputId": "60e79bd3-faca-4c8e-82ca-2e60833812dc"
      },
      "execution_count": null,
      "outputs": [
        {
          "output_type": "stream",
          "name": "stdout",
          "text": [
            "BLEU Score: 2.4655814830110698e-232\n"
          ]
        },
        {
          "output_type": "stream",
          "name": "stderr",
          "text": [
            "/usr/local/lib/python3.10/dist-packages/nltk/translate/bleu_score.py:577: UserWarning: \n",
            "The hypothesis contains 0 counts of 2-gram overlaps.\n",
            "Therefore the BLEU score evaluates to 0, independently of\n",
            "how many N-gram overlaps of lower order it contains.\n",
            "Consider using lower n-gram order or use SmoothingFunction()\n",
            "  warnings.warn(_msg)\n"
          ]
        }
      ]
    },
    {
      "cell_type": "code",
      "source": [
        "# Preprocessing input\n",
        "input_padded = \"kenapa kita harus belajar\"  # Ganti dengan kalimat yang lebih sederhana\n",
        "\n",
        "input_seq = tokenizer.texts_to_sequences([input_padded])\n",
        "input_padded = pad_sequences(input_seq, maxlen=max_length, padding='post')\n",
        "\n",
        "# Menghasilkan prediksi\n",
        "predicted = model.predict(input_padded)\n",
        "\n",
        "# Mengecek output prediksi\n",
        "# print(\"Predicted probabilities:\", predicted)\n",
        "\n",
        "# Ambil kata dengan probabilitas tertinggi untuk setiap langkah\n",
        "predicted_indices = np.argmax(predicted, axis=-1)\n",
        "\n",
        "# Konversi indeks ke kata\n",
        "predicted_words = [tokenizer.index_word.get(index, '') for index in predicted_indices[0]]\n",
        "\n",
        "# Gabungkan kata-kata menjadi satu kalimat\n",
        "parafrase = ' '.join(predicted_words).replace('  ', ' ').strip()\n",
        "\n",
        "print(\"Parafrase:\", parafrase)"
      ],
      "metadata": {
        "colab": {
          "base_uri": "https://localhost:8080/"
        },
        "id": "zKxkN_cuF81X",
        "outputId": "d0b4fe45-6d20-4bb3-95a6-fef1c3ef54c3"
      },
      "execution_count": null,
      "outputs": [
        {
          "output_type": "stream",
          "name": "stdout",
          "text": [
            "\u001b[1m1/1\u001b[0m \u001b[32m━━━━━━━━━━━━━━━━━━━━\u001b[0m\u001b[37m\u001b[0m \u001b[1m0s\u001b[0m 20ms/step\n",
            "Parafrase: kesehatan harus antara\n"
          ]
        }
      ]
    },
    {
      "cell_type": "code",
      "source": [
        "# Kalimat referensi yang benar (misalnya, kalimat asli atau kalimat parafrase yang diinginkan)\n",
        "reference = \"mengapa kita harus belajar\"  # Ganti dengan kalimat referensi yang sesuai\n",
        "\n",
        "# Menghitung BLEU score\n",
        "reference_tokens = reference.split()  # Tokenisasi kalimat referensi\n",
        "predicted_tokens = parafrase.split()  # Tokenisasi kalimat hasil prediksi\n",
        "\n",
        "# Menghitung BLEU score\n",
        "bleu_score = sentence_bleu([reference_tokens], predicted_tokens)\n",
        "\n",
        "print(\"BLEU Score:\", bleu_score)"
      ],
      "metadata": {
        "colab": {
          "base_uri": "https://localhost:8080/"
        },
        "id": "NQu00RF_GEFc",
        "outputId": "c38934e6-4623-400b-8686-18ae7ac17d19"
      },
      "execution_count": null,
      "outputs": [
        {
          "output_type": "stream",
          "name": "stdout",
          "text": [
            "BLEU Score: 9.918892480173173e-232\n"
          ]
        }
      ]
    },
    {
      "cell_type": "code",
      "source": [
        "model = Sequential([\n",
        "    Embedding(input_dim=vocab_size, output_dim=embedding_dim, input_length=max_length),\n",
        "    LSTM(64, return_sequences=True),\n",
        "    Dropout(0.2),\n",
        "    LSTM(128, return_sequences=True),\n",
        "    Dropout(0.2),\n",
        "    Dense(vocab_size, activation='softmax')\n",
        "])\n",
        "\n",
        "# Compile Model\n",
        "model.compile(optimizer=Adam(learning_rate=0.001), loss='sparse_categorical_crossentropy', metrics=['accuracy'])\n",
        "\n",
        "checkpoint = ModelCheckpoint(\n",
        "    filepath='best_model_2_LSTM_{val_accuracy:.4f}.keras',  # Filepath to save the model\n",
        "    monitor='val_accuracy',    # Metric to monitor\n",
        "    save_best_only=True,       # Save only the best model\n",
        "    mode='max',                # 'max' because we want the highest val_accuracy\n",
        "    verbose=1\n",
        ")\n",
        "# Early Stopping untuk mencegah overfitting\n",
        "early_stopping = EarlyStopping(monitor='val_loss', patience=3, restore_best_weights=True)\n",
        "\n",
        "# Train the Model\n",
        "history = model.fit(X_padded, y_padded, epochs=50, batch_size=32, validation_split=0.2, callbacks=[early_stopping, checkpoint])\n",
        "model.summary()"
      ],
      "metadata": {
        "colab": {
          "base_uri": "https://localhost:8080/"
        },
        "id": "MO5rrXfQGKx4",
        "outputId": "7874d365-26c1-4e5b-b149-076adbf48bba"
      },
      "execution_count": null,
      "outputs": [
        {
          "output_type": "stream",
          "name": "stdout",
          "text": [
            "Epoch 1/50\n",
            "\u001b[1m3352/3353\u001b[0m \u001b[32m━━━━━━━━━━━━━━━━━━━\u001b[0m\u001b[37m━\u001b[0m \u001b[1m0s\u001b[0m 81ms/step - accuracy: 0.8812 - loss: 1.2830\n",
            "Epoch 1: val_accuracy improved from -inf to 0.89419, saving model to best_model_2_LSTM_0.8942.keras\n",
            "\u001b[1m3353/3353\u001b[0m \u001b[32m━━━━━━━━━━━━━━━━━━━━\u001b[0m\u001b[37m\u001b[0m \u001b[1m361s\u001b[0m 106ms/step - accuracy: 0.8812 - loss: 1.2828 - val_accuracy: 0.8942 - val_loss: 0.7419\n",
            "Epoch 2/50\n",
            "\u001b[1m3352/3353\u001b[0m \u001b[32m━━━━━━━━━━━━━━━━━━━\u001b[0m\u001b[37m━\u001b[0m \u001b[1m0s\u001b[0m 81ms/step - accuracy: 0.8952 - loss: 0.7224\n",
            "Epoch 2: val_accuracy improved from 0.89419 to 0.89882, saving model to best_model_2_LSTM_0.8988.keras\n",
            "\u001b[1m3353/3353\u001b[0m \u001b[32m━━━━━━━━━━━━━━━━━━━━\u001b[0m\u001b[37m\u001b[0m \u001b[1m354s\u001b[0m 106ms/step - accuracy: 0.8952 - loss: 0.7224 - val_accuracy: 0.8988 - val_loss: 0.6772\n",
            "Epoch 3/50\n",
            "\u001b[1m3352/3353\u001b[0m \u001b[32m━━━━━━━━━━━━━━━━━━━\u001b[0m\u001b[37m━\u001b[0m \u001b[1m0s\u001b[0m 81ms/step - accuracy: 0.8986 - loss: 0.6620\n",
            "Epoch 3: val_accuracy improved from 0.89882 to 0.90074, saving model to best_model_2_LSTM_0.9007.keras\n",
            "\u001b[1m3353/3353\u001b[0m \u001b[32m━━━━━━━━━━━━━━━━━━━━\u001b[0m\u001b[37m\u001b[0m \u001b[1m343s\u001b[0m 94ms/step - accuracy: 0.8986 - loss: 0.6620 - val_accuracy: 0.9007 - val_loss: 0.6440\n",
            "Epoch 4/50\n",
            "\u001b[1m3352/3353\u001b[0m \u001b[32m━━━━━━━━━━━━━━━━━━━\u001b[0m\u001b[37m━\u001b[0m \u001b[1m0s\u001b[0m 81ms/step - accuracy: 0.9002 - loss: 0.6265\n",
            "Epoch 4: val_accuracy improved from 0.90074 to 0.90178, saving model to best_model_2_LSTM_0.9018.keras\n",
            "\u001b[1m3353/3353\u001b[0m \u001b[32m━━━━━━━━━━━━━━━━━━━━\u001b[0m\u001b[37m\u001b[0m \u001b[1m322s\u001b[0m 94ms/step - accuracy: 0.9002 - loss: 0.6265 - val_accuracy: 0.9018 - val_loss: 0.6245\n",
            "Epoch 5/50\n",
            "\u001b[1m3352/3353\u001b[0m \u001b[32m━━━━━━━━━━━━━━━━━━━\u001b[0m\u001b[37m━\u001b[0m \u001b[1m0s\u001b[0m 81ms/step - accuracy: 0.9011 - loss: 0.6031\n",
            "Epoch 5: val_accuracy improved from 0.90178 to 0.90271, saving model to best_model_2_LSTM_0.9027.keras\n",
            "\u001b[1m3353/3353\u001b[0m \u001b[32m━━━━━━━━━━━━━━━━━━━━\u001b[0m\u001b[37m\u001b[0m \u001b[1m361s\u001b[0m 106ms/step - accuracy: 0.9011 - loss: 0.6031 - val_accuracy: 0.9027 - val_loss: 0.6117\n",
            "Epoch 6/50\n",
            "\u001b[1m3352/3353\u001b[0m \u001b[32m━━━━━━━━━━━━━━━━━━━\u001b[0m\u001b[37m━\u001b[0m \u001b[1m0s\u001b[0m 81ms/step - accuracy: 0.9024 - loss: 0.5828\n",
            "Epoch 6: val_accuracy improved from 0.90271 to 0.90307, saving model to best_model_2_LSTM_0.9031.keras\n",
            "\u001b[1m3353/3353\u001b[0m \u001b[32m━━━━━━━━━━━━━━━━━━━━\u001b[0m\u001b[37m\u001b[0m \u001b[1m341s\u001b[0m 94ms/step - accuracy: 0.9024 - loss: 0.5828 - val_accuracy: 0.9031 - val_loss: 0.6038\n",
            "Epoch 7/50\n",
            "\u001b[1m3352/3353\u001b[0m \u001b[32m━━━━━━━━━━━━━━━━━━━\u001b[0m\u001b[37m━\u001b[0m \u001b[1m0s\u001b[0m 81ms/step - accuracy: 0.9031 - loss: 0.5673\n",
            "Epoch 7: val_accuracy improved from 0.90307 to 0.90329, saving model to best_model_2_LSTM_0.9033.keras\n",
            "\u001b[1m3353/3353\u001b[0m \u001b[32m━━━━━━━━━━━━━━━━━━━━\u001b[0m\u001b[37m\u001b[0m \u001b[1m315s\u001b[0m 94ms/step - accuracy: 0.9031 - loss: 0.5673 - val_accuracy: 0.9033 - val_loss: 0.5979\n",
            "Epoch 8/50\n",
            "\u001b[1m3352/3353\u001b[0m \u001b[32m━━━━━━━━━━━━━━━━━━━\u001b[0m\u001b[37m━\u001b[0m \u001b[1m0s\u001b[0m 82ms/step - accuracy: 0.9037 - loss: 0.5551\n",
            "Epoch 8: val_accuracy improved from 0.90329 to 0.90353, saving model to best_model_2_LSTM_0.9035.keras\n",
            "\u001b[1m3353/3353\u001b[0m \u001b[32m━━━━━━━━━━━━━━━━━━━━\u001b[0m\u001b[37m\u001b[0m \u001b[1m316s\u001b[0m 94ms/step - accuracy: 0.9037 - loss: 0.5551 - val_accuracy: 0.9035 - val_loss: 0.5929\n",
            "Epoch 9/50\n",
            "\u001b[1m3352/3353\u001b[0m \u001b[32m━━━━━━━━━━━━━━━━━━━\u001b[0m\u001b[37m━\u001b[0m \u001b[1m0s\u001b[0m 81ms/step - accuracy: 0.9047 - loss: 0.5419\n",
            "Epoch 9: val_accuracy improved from 0.90353 to 0.90375, saving model to best_model_2_LSTM_0.9038.keras\n",
            "\u001b[1m3353/3353\u001b[0m \u001b[32m━━━━━━━━━━━━━━━━━━━━\u001b[0m\u001b[37m\u001b[0m \u001b[1m322s\u001b[0m 94ms/step - accuracy: 0.9047 - loss: 0.5419 - val_accuracy: 0.9038 - val_loss: 0.5899\n",
            "Epoch 10/50\n",
            "\u001b[1m2641/3353\u001b[0m \u001b[32m━━━━━━━━━━━━━━━\u001b[0m\u001b[37m━━━━━\u001b[0m \u001b[1m57s\u001b[0m 81ms/step - accuracy: 0.9050 - loss: 0.5342"
          ]
        }
      ]
    },
    {
      "cell_type": "code",
      "source": [
        "# Melakukan prediksi dan menghitung BLEU score untuk setiap kalimat dalam DataFrame\n",
        "for i in range(len(df2)):\n",
        "    input_question = df2['question'][i]\n",
        "    reference_paraphrase = df2['reference'][i]\n",
        "\n",
        "    # Prediksi parafrase\n",
        "    predicted_paraphrase = predict_paraphrase(input_question)\n",
        "\n",
        "    # Tokenisasi referensi dan hasil prediksi untuk BLEU score\n",
        "    reference_tokens = tokenizer.texts_to_sequences([reference_paraphrase])[0]\n",
        "    predicted_tokens = tokenizer.texts_to_sequences([predicted_paraphrase])[0]\n",
        "\n",
        "    # Menghitung BLEU score\n",
        "    bleu_score = sentence_bleu([reference_tokens], predicted_tokens, smoothing_function=smoothing)\n",
        "\n",
        "    # Menampilkan hasil\n",
        "    print(f\"Pertanyaan: {input_question}\")\n",
        "    print(f\"Parafrase yang diprediksi: {predicted_paraphrase}\")\n",
        "    print(f\"Referensi: {reference_paraphrase}\")\n",
        "    print(f\"BLEU score: {bleu_score:.4f}\")\n",
        "    print(\"-\" * 50)"
      ],
      "metadata": {
        "id": "NWvJhZ505ktd"
      },
      "execution_count": null,
      "outputs": []
    },
    {
      "cell_type": "code",
      "source": [
        "model = Sequential([\n",
        "    Embedding(input_dim=vocab_size, output_dim=embedding_dim, input_length=max_length),\n",
        "    LSTM(128, return_sequences=True),\n",
        "    Dropout(0.2),\n",
        "    LSTM(256, return_sequences=True),\n",
        "    Dropout(0.2),\n",
        "    Dense(vocab_size, activation='softmax')\n",
        "])\n",
        "\n",
        "# Compile Model\n",
        "model.compile(optimizer=Adam(learning_rate=0.001), loss='sparse_categorical_crossentropy', metrics=['accuracy'])\n",
        "\n",
        "checkpoint = ModelCheckpoint(\n",
        "    filepath='best_model_2_LSTM_{val_accuracy:.4f}.keras',  # Filepath to save the model\n",
        "    monitor='val_accuracy',    # Metric to monitor\n",
        "    save_best_only=True,       # Save only the best model\n",
        "    mode='max',                # 'max' because we want the highest val_accuracy\n",
        "    verbose=1\n",
        ")\n",
        "# Early Stopping untuk mencegah overfitting\n",
        "early_stopping = EarlyStopping(monitor='val_loss', patience=3, restore_best_weights=True)\n",
        "\n",
        "# Train the Model\n",
        "history = model.fit(X_padded, y_padded, epochs=50, batch_size=32, validation_split=0.2, callbacks=[early_stopping, checkpoint])\n",
        "model.summary()"
      ],
      "metadata": {
        "id": "FI-d41qP5lHj"
      },
      "execution_count": null,
      "outputs": []
    }
  ]
}